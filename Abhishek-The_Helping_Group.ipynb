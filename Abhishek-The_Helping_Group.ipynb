{
 "cells": [
  {
   "cell_type": "markdown",
   "id": "a55a64df",
   "metadata": {},
   "source": [
    "# THERE ARE 6 Cases OVERALL for Market Strategy Treatment group Analysis:\n",
    "\n",
    "### CASE 1)\tCancel --> Marketing Strategy (MS) (CALL/Email) --> Appointment --------> POSITIVE RESULT\n",
    "### CASE 2)\tAppointment --> MS --> Cancel ------------------------------------------> NEGATIVE RESULT\n",
    "\n",
    "### CASE 3)\tStrategy --> Appointment --> Cancel ------------------------------------> POSITIVE, \n",
    "    ### BUT, CHANGED DECISION, may be unsatisfied with the service\n",
    "\n",
    "### CASE 4)\tStrategy --> Cancel --> Appointment ------------------------------------> Negative, \n",
    "    ### BUT, AGAIN TOOK THE APPOINTMENT may be an upcoming outlier like birthday party, anniversary party, etc\n",
    "\n",
    "\n",
    "\n",
    "### CASE 5)\tCancel --> Appointment --> Strategy ------------------------------------> Positive (No Inference)\n",
    "### CASE 6)\tAppointment --> Cancel --> Strategy ------------------------------------> NEGATIVE (No Inference)\n",
    "\n",
    "\n",
    "\n",
    "### 1,2,3,4 will be analysed to understand the efficacy of reactivation initiatives in Q1.\n",
    "\n",
    "\n",
    "# AND 2 Cases FOR CONTROL GROUP Analysis:\n",
    "\n",
    "### Case 1)\tAppointment --> Cancel\n",
    "### Case 2)\tCancel --> Appointment\n"
   ]
  },
  {
   "cell_type": "code",
   "execution_count": 141,
   "id": "0c92ee5e",
   "metadata": {},
   "outputs": [],
   "source": [
    "import pandas as pd\n",
    "import sqlite3\n",
    "pd.set_option('display.max_rows', None)\n",
    "pd.set_option('display.max_columns', None)\n",
    "import matplotlib.pyplot as plt"
   ]
  },
  {
   "cell_type": "code",
   "execution_count": 142,
   "id": "260d283c",
   "metadata": {},
   "outputs": [],
   "source": [
    "# Load the CSV data into a DataFrame\n",
    "df_appointments = pd.read_csv(r\"C:\\Users\\Hp\\Desktop\\appointments.csv\")"
   ]
  },
  {
   "cell_type": "code",
   "execution_count": 143,
   "id": "ff7846af",
   "metadata": {
    "scrolled": true
   },
   "outputs": [
    {
     "data": {
      "text/html": [
       "<div>\n",
       "<style scoped>\n",
       "    .dataframe tbody tr th:only-of-type {\n",
       "        vertical-align: middle;\n",
       "    }\n",
       "\n",
       "    .dataframe tbody tr th {\n",
       "        vertical-align: top;\n",
       "    }\n",
       "\n",
       "    .dataframe thead th {\n",
       "        text-align: right;\n",
       "    }\n",
       "</style>\n",
       "<table border=\"1\" class=\"dataframe\">\n",
       "  <thead>\n",
       "    <tr style=\"text-align: right;\">\n",
       "      <th></th>\n",
       "      <th>customer_id</th>\n",
       "      <th>appointment_timestamp</th>\n",
       "    </tr>\n",
       "  </thead>\n",
       "  <tbody>\n",
       "    <tr>\n",
       "      <th>0</th>\n",
       "      <td>1</td>\n",
       "      <td>2022-12-18</td>\n",
       "    </tr>\n",
       "    <tr>\n",
       "      <th>1</th>\n",
       "      <td>2</td>\n",
       "      <td>2022-12-04</td>\n",
       "    </tr>\n",
       "    <tr>\n",
       "      <th>2</th>\n",
       "      <td>2</td>\n",
       "      <td>2022-12-16</td>\n",
       "    </tr>\n",
       "    <tr>\n",
       "      <th>3</th>\n",
       "      <td>2</td>\n",
       "      <td>2022-12-31</td>\n",
       "    </tr>\n",
       "    <tr>\n",
       "      <th>4</th>\n",
       "      <td>3</td>\n",
       "      <td>2022-12-30</td>\n",
       "    </tr>\n",
       "  </tbody>\n",
       "</table>\n",
       "</div>"
      ],
      "text/plain": [
       "   customer_id appointment_timestamp\n",
       "0            1            2022-12-18\n",
       "1            2            2022-12-04\n",
       "2            2            2022-12-16\n",
       "3            2            2022-12-31\n",
       "4            3            2022-12-30"
      ]
     },
     "execution_count": 143,
     "metadata": {},
     "output_type": "execute_result"
    }
   ],
   "source": [
    "df_appointments.head()"
   ]
  },
  {
   "cell_type": "code",
   "execution_count": 144,
   "id": "912b5633",
   "metadata": {
    "scrolled": true
   },
   "outputs": [
    {
     "data": {
      "text/plain": [
       "customer_id               int64\n",
       "appointment_timestamp    object\n",
       "dtype: object"
      ]
     },
     "execution_count": 144,
     "metadata": {},
     "output_type": "execute_result"
    }
   ],
   "source": [
    "df_appointments.dtypes"
   ]
  },
  {
   "cell_type": "code",
   "execution_count": 145,
   "id": "41b083b2",
   "metadata": {},
   "outputs": [
    {
     "data": {
      "text/plain": [
       "(11902, 2)"
      ]
     },
     "execution_count": 145,
     "metadata": {},
     "output_type": "execute_result"
    }
   ],
   "source": [
    "df_appointments.shape"
   ]
  },
  {
   "cell_type": "code",
   "execution_count": 146,
   "id": "81014343",
   "metadata": {
    "scrolled": true
   },
   "outputs": [
    {
     "data": {
      "text/plain": [
       "customer_id              5000\n",
       "appointment_timestamp      62\n",
       "dtype: int64"
      ]
     },
     "execution_count": 146,
     "metadata": {},
     "output_type": "execute_result"
    }
   ],
   "source": [
    "df_appointments.nunique()"
   ]
  },
  {
   "cell_type": "markdown",
   "id": "da48c446",
   "metadata": {},
   "source": [
    "### Inference: 5000 customers have 11902 appointments on 62 unique days, so on an average 192 appointments per day. Thus Helping Group should be prepared for these kind of demands with the proportionate worker supply. "
   ]
  },
  {
   "cell_type": "code",
   "execution_count": 147,
   "id": "c41ab88b",
   "metadata": {},
   "outputs": [],
   "source": [
    "df_cancellations = pd.read_csv(r\"C:\\Users\\Hp\\Desktop\\cancellations.csv\")"
   ]
  },
  {
   "cell_type": "code",
   "execution_count": 148,
   "id": "61022832",
   "metadata": {},
   "outputs": [
    {
     "data": {
      "text/html": [
       "<div>\n",
       "<style scoped>\n",
       "    .dataframe tbody tr th:only-of-type {\n",
       "        vertical-align: middle;\n",
       "    }\n",
       "\n",
       "    .dataframe tbody tr th {\n",
       "        vertical-align: top;\n",
       "    }\n",
       "\n",
       "    .dataframe thead th {\n",
       "        text-align: right;\n",
       "    }\n",
       "</style>\n",
       "<table border=\"1\" class=\"dataframe\">\n",
       "  <thead>\n",
       "    <tr style=\"text-align: right;\">\n",
       "      <th></th>\n",
       "      <th>customer_id</th>\n",
       "      <th>cancellation_timestamp</th>\n",
       "    </tr>\n",
       "  </thead>\n",
       "  <tbody>\n",
       "    <tr>\n",
       "      <th>0</th>\n",
       "      <td>1</td>\n",
       "      <td>2023-01-11</td>\n",
       "    </tr>\n",
       "    <tr>\n",
       "      <th>1</th>\n",
       "      <td>2</td>\n",
       "      <td>2023-01-02</td>\n",
       "    </tr>\n",
       "    <tr>\n",
       "      <th>2</th>\n",
       "      <td>3</td>\n",
       "      <td>2023-01-20</td>\n",
       "    </tr>\n",
       "    <tr>\n",
       "      <th>3</th>\n",
       "      <td>4</td>\n",
       "      <td>2023-01-21</td>\n",
       "    </tr>\n",
       "    <tr>\n",
       "      <th>4</th>\n",
       "      <td>5</td>\n",
       "      <td>2023-01-07</td>\n",
       "    </tr>\n",
       "  </tbody>\n",
       "</table>\n",
       "</div>"
      ],
      "text/plain": [
       "   customer_id cancellation_timestamp\n",
       "0            1             2023-01-11\n",
       "1            2             2023-01-02\n",
       "2            3             2023-01-20\n",
       "3            4             2023-01-21\n",
       "4            5             2023-01-07"
      ]
     },
     "execution_count": 148,
     "metadata": {},
     "output_type": "execute_result"
    }
   ],
   "source": [
    "df_cancellations.head()"
   ]
  },
  {
   "cell_type": "code",
   "execution_count": 149,
   "id": "03461203",
   "metadata": {},
   "outputs": [
    {
     "data": {
      "text/plain": [
       "customer_id                int64\n",
       "cancellation_timestamp    object\n",
       "dtype: object"
      ]
     },
     "execution_count": 149,
     "metadata": {},
     "output_type": "execute_result"
    }
   ],
   "source": [
    "df_cancellations.dtypes"
   ]
  },
  {
   "cell_type": "code",
   "execution_count": 150,
   "id": "cdc51c1f",
   "metadata": {},
   "outputs": [
    {
     "data": {
      "text/plain": [
       "(5000, 2)"
      ]
     },
     "execution_count": 150,
     "metadata": {},
     "output_type": "execute_result"
    }
   ],
   "source": [
    "df_cancellations.shape"
   ]
  },
  {
   "cell_type": "code",
   "execution_count": 151,
   "id": "ad52c269",
   "metadata": {},
   "outputs": [
    {
     "data": {
      "text/plain": [
       "customer_id               5000\n",
       "cancellation_timestamp      31\n",
       "dtype: int64"
      ]
     },
     "execution_count": 151,
     "metadata": {},
     "output_type": "execute_result"
    }
   ],
   "source": [
    "df_cancellations.nunique()"
   ]
  },
  {
   "cell_type": "markdown",
   "id": "ffd54a64",
   "metadata": {},
   "source": [
    "### 5000 Cancellations in 31 unique days. On an avearge 161 cancellations per day !!!"
   ]
  },
  {
   "cell_type": "code",
   "execution_count": 152,
   "id": "9738a8f1",
   "metadata": {},
   "outputs": [],
   "source": [
    "df_emails = pd.read_csv(r\"C:\\Users\\Hp\\Desktop\\emails.csv\")"
   ]
  },
  {
   "cell_type": "code",
   "execution_count": 153,
   "id": "97108095",
   "metadata": {},
   "outputs": [
    {
     "data": {
      "text/html": [
       "<div>\n",
       "<style scoped>\n",
       "    .dataframe tbody tr th:only-of-type {\n",
       "        vertical-align: middle;\n",
       "    }\n",
       "\n",
       "    .dataframe tbody tr th {\n",
       "        vertical-align: top;\n",
       "    }\n",
       "\n",
       "    .dataframe thead th {\n",
       "        text-align: right;\n",
       "    }\n",
       "</style>\n",
       "<table border=\"1\" class=\"dataframe\">\n",
       "  <thead>\n",
       "    <tr style=\"text-align: right;\">\n",
       "      <th></th>\n",
       "      <th>customer_id</th>\n",
       "      <th>email_timestamp</th>\n",
       "      <th>email_type</th>\n",
       "    </tr>\n",
       "  </thead>\n",
       "  <tbody>\n",
       "    <tr>\n",
       "      <th>0</th>\n",
       "      <td>5</td>\n",
       "      <td>2023-01-09</td>\n",
       "      <td>reactivation</td>\n",
       "    </tr>\n",
       "    <tr>\n",
       "      <th>1</th>\n",
       "      <td>5</td>\n",
       "      <td>2023-01-19</td>\n",
       "      <td>reactivation</td>\n",
       "    </tr>\n",
       "    <tr>\n",
       "      <th>2</th>\n",
       "      <td>5</td>\n",
       "      <td>2023-01-27</td>\n",
       "      <td>update</td>\n",
       "    </tr>\n",
       "    <tr>\n",
       "      <th>3</th>\n",
       "      <td>5</td>\n",
       "      <td>2023-01-18</td>\n",
       "      <td>promo</td>\n",
       "    </tr>\n",
       "    <tr>\n",
       "      <th>4</th>\n",
       "      <td>16</td>\n",
       "      <td>2023-01-22</td>\n",
       "      <td>reactivation</td>\n",
       "    </tr>\n",
       "  </tbody>\n",
       "</table>\n",
       "</div>"
      ],
      "text/plain": [
       "   customer_id email_timestamp    email_type\n",
       "0            5      2023-01-09  reactivation\n",
       "1            5      2023-01-19  reactivation\n",
       "2            5      2023-01-27        update\n",
       "3            5      2023-01-18         promo\n",
       "4           16      2023-01-22  reactivation"
      ]
     },
     "execution_count": 153,
     "metadata": {},
     "output_type": "execute_result"
    }
   ],
   "source": [
    "df_emails.head()"
   ]
  },
  {
   "cell_type": "code",
   "execution_count": 154,
   "id": "34ebf850",
   "metadata": {
    "scrolled": true
   },
   "outputs": [
    {
     "data": {
      "text/plain": [
       "customer_id         int64\n",
       "email_timestamp    object\n",
       "email_type         object\n",
       "dtype: object"
      ]
     },
     "execution_count": 154,
     "metadata": {},
     "output_type": "execute_result"
    }
   ],
   "source": [
    "df_emails.dtypes"
   ]
  },
  {
   "cell_type": "code",
   "execution_count": 155,
   "id": "ff377ef9",
   "metadata": {},
   "outputs": [
    {
     "data": {
      "text/plain": [
       "(4193, 3)"
      ]
     },
     "execution_count": 155,
     "metadata": {},
     "output_type": "execute_result"
    }
   ],
   "source": [
    "df_emails.shape"
   ]
  },
  {
   "cell_type": "code",
   "execution_count": 156,
   "id": "d168c82d",
   "metadata": {},
   "outputs": [
    {
     "data": {
      "text/plain": [
       "customer_id        1694\n",
       "email_timestamp      60\n",
       "email_type            4\n",
       "dtype: int64"
      ]
     },
     "execution_count": 156,
     "metadata": {},
     "output_type": "execute_result"
    }
   ],
   "source": [
    "df_emails.nunique()"
   ]
  },
  {
   "cell_type": "code",
   "execution_count": 157,
   "id": "d4e1303f",
   "metadata": {},
   "outputs": [
    {
     "data": {
      "text/plain": [
       "email_type\n",
       "reactivation    2308\n",
       "update           643\n",
       "promo            627\n",
       "newsletter       615\n",
       "Name: count, dtype: int64"
      ]
     },
     "execution_count": 157,
     "metadata": {},
     "output_type": "execute_result"
    }
   ],
   "source": [
    "df_emails['email_type'].value_counts()"
   ]
  },
  {
   "cell_type": "code",
   "execution_count": 158,
   "id": "2c0d8ea4",
   "metadata": {
    "scrolled": true
   },
   "outputs": [
    {
     "data": {
      "image/png": "[encoded data removed]",
      "text/plain": [
       "<Figure size 400x400 with 1 Axes>"
      ]
     },
     "metadata": {},
     "output_type": "display_data"
    }
   ],
   "source": [
    "df_emails['email_type'].value_counts().plot(kind='pie', figsize=(4, 4), labels=df_emails['email_type'].value_counts().index)\n",
    "plt.ylabel('')  # To remove the default label 'email_type'\n",
    "plt.show()"
   ]
  },
  {
   "cell_type": "code",
   "execution_count": 159,
   "id": "1dc27c93",
   "metadata": {},
   "outputs": [],
   "source": [
    "df_calls = pd.read_csv(r\"C:\\Users\\Hp\\Desktop\\calls.csv\")"
   ]
  },
  {
   "cell_type": "code",
   "execution_count": 160,
   "id": "d0185689",
   "metadata": {},
   "outputs": [
    {
     "data": {
      "text/html": [
       "<div>\n",
       "<style scoped>\n",
       "    .dataframe tbody tr th:only-of-type {\n",
       "        vertical-align: middle;\n",
       "    }\n",
       "\n",
       "    .dataframe tbody tr th {\n",
       "        vertical-align: top;\n",
       "    }\n",
       "\n",
       "    .dataframe thead th {\n",
       "        text-align: right;\n",
       "    }\n",
       "</style>\n",
       "<table border=\"1\" class=\"dataframe\">\n",
       "  <thead>\n",
       "    <tr style=\"text-align: right;\">\n",
       "      <th></th>\n",
       "      <th>customer_id</th>\n",
       "      <th>call_timestamp</th>\n",
       "      <th>call_answered</th>\n",
       "    </tr>\n",
       "  </thead>\n",
       "  <tbody>\n",
       "    <tr>\n",
       "      <th>0</th>\n",
       "      <td>1</td>\n",
       "      <td>2023-01-22</td>\n",
       "      <td>True</td>\n",
       "    </tr>\n",
       "    <tr>\n",
       "      <th>1</th>\n",
       "      <td>4</td>\n",
       "      <td>2023-02-09</td>\n",
       "      <td>True</td>\n",
       "    </tr>\n",
       "    <tr>\n",
       "      <th>2</th>\n",
       "      <td>9</td>\n",
       "      <td>2023-02-20</td>\n",
       "      <td>False</td>\n",
       "    </tr>\n",
       "    <tr>\n",
       "      <th>3</th>\n",
       "      <td>11</td>\n",
       "      <td>2023-02-01</td>\n",
       "      <td>True</td>\n",
       "    </tr>\n",
       "    <tr>\n",
       "      <th>4</th>\n",
       "      <td>12</td>\n",
       "      <td>2023-02-05</td>\n",
       "      <td>True</td>\n",
       "    </tr>\n",
       "  </tbody>\n",
       "</table>\n",
       "</div>"
      ],
      "text/plain": [
       "   customer_id call_timestamp  call_answered\n",
       "0            1     2023-01-22           True\n",
       "1            4     2023-02-09           True\n",
       "2            9     2023-02-20          False\n",
       "3           11     2023-02-01           True\n",
       "4           12     2023-02-05           True"
      ]
     },
     "execution_count": 160,
     "metadata": {},
     "output_type": "execute_result"
    }
   ],
   "source": [
    "df_calls.head()"
   ]
  },
  {
   "cell_type": "code",
   "execution_count": 161,
   "id": "81a71d9a",
   "metadata": {},
   "outputs": [
    {
     "data": {
      "text/plain": [
       "(1684, 3)"
      ]
     },
     "execution_count": 161,
     "metadata": {},
     "output_type": "execute_result"
    }
   ],
   "source": [
    "df_calls.shape"
   ]
  },
  {
   "cell_type": "code",
   "execution_count": 162,
   "id": "3c3abc92",
   "metadata": {},
   "outputs": [
    {
     "data": {
      "text/plain": [
       "customer_id       1684\n",
       "call_timestamp      60\n",
       "call_answered        2\n",
       "dtype: int64"
      ]
     },
     "execution_count": 162,
     "metadata": {},
     "output_type": "execute_result"
    }
   ],
   "source": [
    "df_calls.nunique()"
   ]
  },
  {
   "cell_type": "markdown",
   "id": "a82f462f",
   "metadata": {},
   "source": [
    "### No duplicates here unlike emails. A single customer was called once but mailed multiple times."
   ]
  },
  {
   "cell_type": "code",
   "execution_count": 163,
   "id": "263b73c2",
   "metadata": {
    "scrolled": true
   },
   "outputs": [
    {
     "data": {
      "text/plain": [
       "call_answered\n",
       "True     885\n",
       "False    799\n",
       "Name: count, dtype: int64"
      ]
     },
     "execution_count": 163,
     "metadata": {},
     "output_type": "execute_result"
    }
   ],
   "source": [
    "df_calls[\"call_answered\"].value_counts()"
   ]
  },
  {
   "cell_type": "code",
   "execution_count": 164,
   "id": "d99b9e28",
   "metadata": {},
   "outputs": [
    {
     "data": {
      "text/plain": [
       "<Axes: xlabel='call_answered'>"
      ]
     },
     "execution_count": 164,
     "metadata": {},
     "output_type": "execute_result"
    },
    {
     "data": {
      "image/png": "[encoded data removed]",
      "text/plain": [
       "<Figure size 400x400 with 1 Axes>"
      ]
     },
     "metadata": {},
     "output_type": "display_data"
    }
   ],
   "source": [
    "df_calls[\"call_answered\"].value_counts().plot(kind = 'bar', figsize = (4,4))"
   ]
  },
  {
   "cell_type": "markdown",
   "id": "6d205384",
   "metadata": {},
   "source": [
    "### Class is balanced more or less. Statistical theorems like normality, binomiality, law or large numbers can be applied. \n",
    "\n",
    "### Moreover, more people replied than no replies, but what is intriguing is that almost half the people didn't reply a call. Usually people reply on calls. \n",
    "\n",
    "### Maybe our numbers have been marked as spam. \n",
    "\n",
    "### Maybe the timing of the call was not appropriate, what was the occupational , geographic , etc distribution of our customers ? Working hours / Students ?? \n",
    "\n",
    "### This could help in getting better insights on when to call as well as devising customized business startegies for different customer segments. !!! Hint to Question 4"
   ]
  },
  {
   "cell_type": "markdown",
   "id": "9503b1d9",
   "metadata": {},
   "source": [
    "### Checking for null values"
   ]
  },
  {
   "cell_type": "code",
   "execution_count": 165,
   "id": "f623ad2c",
   "metadata": {
    "scrolled": true
   },
   "outputs": [
    {
     "data": {
      "text/plain": [
       "customer_id       0\n",
       "call_timestamp    0\n",
       "call_answered     0\n",
       "dtype: int64"
      ]
     },
     "execution_count": 165,
     "metadata": {},
     "output_type": "execute_result"
    }
   ],
   "source": [
    "df_calls.isnull().sum()"
   ]
  },
  {
   "cell_type": "code",
   "execution_count": 166,
   "id": "f5d2bad2",
   "metadata": {},
   "outputs": [
    {
     "data": {
      "text/plain": [
       "customer_id        0\n",
       "email_timestamp    0\n",
       "email_type         0\n",
       "dtype: int64"
      ]
     },
     "execution_count": 166,
     "metadata": {},
     "output_type": "execute_result"
    }
   ],
   "source": [
    "df_emails.isnull().sum()"
   ]
  },
  {
   "cell_type": "code",
   "execution_count": 167,
   "id": "2a741fba",
   "metadata": {},
   "outputs": [
    {
     "data": {
      "text/plain": [
       "customer_id              0\n",
       "appointment_timestamp    0\n",
       "dtype: int64"
      ]
     },
     "execution_count": 167,
     "metadata": {},
     "output_type": "execute_result"
    }
   ],
   "source": [
    "df_appointments.isnull().sum()"
   ]
  },
  {
   "cell_type": "code",
   "execution_count": 168,
   "id": "c4dea747",
   "metadata": {},
   "outputs": [
    {
     "data": {
      "text/plain": [
       "customer_id               0\n",
       "cancellation_timestamp    0\n",
       "dtype: int64"
      ]
     },
     "execution_count": 168,
     "metadata": {},
     "output_type": "execute_result"
    }
   ],
   "source": [
    "df_cancellations.isnull().sum()"
   ]
  },
  {
   "cell_type": "markdown",
   "id": "a4b1b142",
   "metadata": {},
   "source": [
    "# Data is Clean, no missing values are there, classes are balanced, standardized format is there. So now we can transition from wrangling to analysis"
   ]
  },
  {
   "cell_type": "markdown",
   "id": "37df34e4",
   "metadata": {},
   "source": [
    "# However, we must make a control group table with cutomer_ids and timestamps who were not exposed to any market initiative. This will acts as a benchmark for our comparative analysis."
   ]
  },
  {
   "cell_type": "code",
   "execution_count": 169,
   "id": "3a440cf8",
   "metadata": {},
   "outputs": [],
   "source": [
    "# Merge calls and emails dataframes to identify customer IDs and timestamps present in both\n",
    "merged_calls_emails = pd.concat([df_calls[['customer_id', 'call_timestamp']], df_emails[['customer_id', 'email_timestamp']]])"
   ]
  },
  {
   "cell_type": "code",
   "execution_count": 170,
   "id": "8eb4de6a",
   "metadata": {},
   "outputs": [],
   "source": [
    "# Identify customer IDs and timestamps in cancellations dataframe but not in merged_calls_emails\n",
    "control_group = pd.merge(df_cancellations, merged_calls_emails, on=['customer_id'], how='left', indicator=True)\n",
    "control_group = control_group[control_group['_merge'] == 'left_only']"
   ]
  },
  {
   "cell_type": "code",
   "execution_count": 171,
   "id": "db19645c",
   "metadata": {},
   "outputs": [
    {
     "data": {
      "text/html": [
       "<div>\n",
       "<style scoped>\n",
       "    .dataframe tbody tr th:only-of-type {\n",
       "        vertical-align: middle;\n",
       "    }\n",
       "\n",
       "    .dataframe tbody tr th {\n",
       "        vertical-align: top;\n",
       "    }\n",
       "\n",
       "    .dataframe thead th {\n",
       "        text-align: right;\n",
       "    }\n",
       "</style>\n",
       "<table border=\"1\" class=\"dataframe\">\n",
       "  <thead>\n",
       "    <tr style=\"text-align: right;\">\n",
       "      <th></th>\n",
       "      <th>customer_id</th>\n",
       "      <th>cancellation_timestamp</th>\n",
       "      <th>call_timestamp</th>\n",
       "      <th>email_timestamp</th>\n",
       "      <th>_merge</th>\n",
       "    </tr>\n",
       "  </thead>\n",
       "  <tbody>\n",
       "    <tr>\n",
       "      <th>1</th>\n",
       "      <td>2</td>\n",
       "      <td>2023-01-02</td>\n",
       "      <td>NaN</td>\n",
       "      <td>NaN</td>\n",
       "      <td>left_only</td>\n",
       "    </tr>\n",
       "    <tr>\n",
       "      <th>2</th>\n",
       "      <td>3</td>\n",
       "      <td>2023-01-20</td>\n",
       "      <td>NaN</td>\n",
       "      <td>NaN</td>\n",
       "      <td>left_only</td>\n",
       "    </tr>\n",
       "    <tr>\n",
       "      <th>8</th>\n",
       "      <td>6</td>\n",
       "      <td>2023-01-19</td>\n",
       "      <td>NaN</td>\n",
       "      <td>NaN</td>\n",
       "      <td>left_only</td>\n",
       "    </tr>\n",
       "    <tr>\n",
       "      <th>9</th>\n",
       "      <td>7</td>\n",
       "      <td>2023-01-17</td>\n",
       "      <td>NaN</td>\n",
       "      <td>NaN</td>\n",
       "      <td>left_only</td>\n",
       "    </tr>\n",
       "    <tr>\n",
       "      <th>10</th>\n",
       "      <td>8</td>\n",
       "      <td>2023-01-08</td>\n",
       "      <td>NaN</td>\n",
       "      <td>NaN</td>\n",
       "      <td>left_only</td>\n",
       "    </tr>\n",
       "  </tbody>\n",
       "</table>\n",
       "</div>"
      ],
      "text/plain": [
       "    customer_id cancellation_timestamp call_timestamp email_timestamp  \\\n",
       "1             2             2023-01-02            NaN             NaN   \n",
       "2             3             2023-01-20            NaN             NaN   \n",
       "8             6             2023-01-19            NaN             NaN   \n",
       "9             7             2023-01-17            NaN             NaN   \n",
       "10            8             2023-01-08            NaN             NaN   \n",
       "\n",
       "       _merge  \n",
       "1   left_only  \n",
       "2   left_only  \n",
       "8   left_only  \n",
       "9   left_only  \n",
       "10  left_only  "
      ]
     },
     "execution_count": 171,
     "metadata": {},
     "output_type": "execute_result"
    }
   ],
   "source": [
    "control_group.head()"
   ]
  },
  {
   "cell_type": "code",
   "execution_count": 172,
   "id": "ff025e19",
   "metadata": {},
   "outputs": [],
   "source": [
    "# Drop the indicator column\n",
    "control_group.drop('_merge', axis=1, inplace=True)"
   ]
  },
  {
   "cell_type": "code",
   "execution_count": 173,
   "id": "508af85f",
   "metadata": {},
   "outputs": [
    {
     "data": {
      "text/html": [
       "<div>\n",
       "<style scoped>\n",
       "    .dataframe tbody tr th:only-of-type {\n",
       "        vertical-align: middle;\n",
       "    }\n",
       "\n",
       "    .dataframe tbody tr th {\n",
       "        vertical-align: top;\n",
       "    }\n",
       "\n",
       "    .dataframe thead th {\n",
       "        text-align: right;\n",
       "    }\n",
       "</style>\n",
       "<table border=\"1\" class=\"dataframe\">\n",
       "  <thead>\n",
       "    <tr style=\"text-align: right;\">\n",
       "      <th></th>\n",
       "      <th>customer_id</th>\n",
       "      <th>cancellation_timestamp</th>\n",
       "      <th>call_timestamp</th>\n",
       "      <th>email_timestamp</th>\n",
       "    </tr>\n",
       "  </thead>\n",
       "  <tbody>\n",
       "    <tr>\n",
       "      <th>1</th>\n",
       "      <td>2</td>\n",
       "      <td>2023-01-02</td>\n",
       "      <td>NaN</td>\n",
       "      <td>NaN</td>\n",
       "    </tr>\n",
       "    <tr>\n",
       "      <th>2</th>\n",
       "      <td>3</td>\n",
       "      <td>2023-01-20</td>\n",
       "      <td>NaN</td>\n",
       "      <td>NaN</td>\n",
       "    </tr>\n",
       "    <tr>\n",
       "      <th>8</th>\n",
       "      <td>6</td>\n",
       "      <td>2023-01-19</td>\n",
       "      <td>NaN</td>\n",
       "      <td>NaN</td>\n",
       "    </tr>\n",
       "    <tr>\n",
       "      <th>9</th>\n",
       "      <td>7</td>\n",
       "      <td>2023-01-17</td>\n",
       "      <td>NaN</td>\n",
       "      <td>NaN</td>\n",
       "    </tr>\n",
       "    <tr>\n",
       "      <th>10</th>\n",
       "      <td>8</td>\n",
       "      <td>2023-01-08</td>\n",
       "      <td>NaN</td>\n",
       "      <td>NaN</td>\n",
       "    </tr>\n",
       "  </tbody>\n",
       "</table>\n",
       "</div>"
      ],
      "text/plain": [
       "    customer_id cancellation_timestamp call_timestamp email_timestamp\n",
       "1             2             2023-01-02            NaN             NaN\n",
       "2             3             2023-01-20            NaN             NaN\n",
       "8             6             2023-01-19            NaN             NaN\n",
       "9             7             2023-01-17            NaN             NaN\n",
       "10            8             2023-01-08            NaN             NaN"
      ]
     },
     "execution_count": 173,
     "metadata": {},
     "output_type": "execute_result"
    }
   ],
   "source": [
    "control_group.head()"
   ]
  },
  {
   "cell_type": "code",
   "execution_count": 174,
   "id": "38d6a9eb",
   "metadata": {},
   "outputs": [],
   "source": [
    "control_group.drop('call_timestamp', axis=1, inplace=True)\n",
    "control_group.drop('email_timestamp', axis=1, inplace=True)"
   ]
  },
  {
   "cell_type": "code",
   "execution_count": 175,
   "id": "7aa7c7a5",
   "metadata": {},
   "outputs": [
    {
     "data": {
      "text/html": [
       "<div>\n",
       "<style scoped>\n",
       "    .dataframe tbody tr th:only-of-type {\n",
       "        vertical-align: middle;\n",
       "    }\n",
       "\n",
       "    .dataframe tbody tr th {\n",
       "        vertical-align: top;\n",
       "    }\n",
       "\n",
       "    .dataframe thead th {\n",
       "        text-align: right;\n",
       "    }\n",
       "</style>\n",
       "<table border=\"1\" class=\"dataframe\">\n",
       "  <thead>\n",
       "    <tr style=\"text-align: right;\">\n",
       "      <th></th>\n",
       "      <th>customer_id</th>\n",
       "      <th>cancellation_timestamp</th>\n",
       "    </tr>\n",
       "  </thead>\n",
       "  <tbody>\n",
       "    <tr>\n",
       "      <th>1</th>\n",
       "      <td>2</td>\n",
       "      <td>2023-01-02</td>\n",
       "    </tr>\n",
       "    <tr>\n",
       "      <th>2</th>\n",
       "      <td>3</td>\n",
       "      <td>2023-01-20</td>\n",
       "    </tr>\n",
       "    <tr>\n",
       "      <th>8</th>\n",
       "      <td>6</td>\n",
       "      <td>2023-01-19</td>\n",
       "    </tr>\n",
       "    <tr>\n",
       "      <th>9</th>\n",
       "      <td>7</td>\n",
       "      <td>2023-01-17</td>\n",
       "    </tr>\n",
       "    <tr>\n",
       "      <th>10</th>\n",
       "      <td>8</td>\n",
       "      <td>2023-01-08</td>\n",
       "    </tr>\n",
       "  </tbody>\n",
       "</table>\n",
       "</div>"
      ],
      "text/plain": [
       "    customer_id cancellation_timestamp\n",
       "1             2             2023-01-02\n",
       "2             3             2023-01-20\n",
       "8             6             2023-01-19\n",
       "9             7             2023-01-17\n",
       "10            8             2023-01-08"
      ]
     },
     "execution_count": 175,
     "metadata": {},
     "output_type": "execute_result"
    }
   ],
   "source": [
    "control_group.head()"
   ]
  },
  {
   "cell_type": "code",
   "execution_count": 176,
   "id": "99a51179",
   "metadata": {},
   "outputs": [],
   "source": [
    "control_group.reset_index(drop=True, inplace=True)"
   ]
  },
  {
   "cell_type": "code",
   "execution_count": 177,
   "id": "b7253cc8",
   "metadata": {},
   "outputs": [
    {
     "data": {
      "text/html": [
       "<div>\n",
       "<style scoped>\n",
       "    .dataframe tbody tr th:only-of-type {\n",
       "        vertical-align: middle;\n",
       "    }\n",
       "\n",
       "    .dataframe tbody tr th {\n",
       "        vertical-align: top;\n",
       "    }\n",
       "\n",
       "    .dataframe thead th {\n",
       "        text-align: right;\n",
       "    }\n",
       "</style>\n",
       "<table border=\"1\" class=\"dataframe\">\n",
       "  <thead>\n",
       "    <tr style=\"text-align: right;\">\n",
       "      <th></th>\n",
       "      <th>customer_id</th>\n",
       "      <th>cancellation_timestamp</th>\n",
       "    </tr>\n",
       "  </thead>\n",
       "  <tbody>\n",
       "    <tr>\n",
       "      <th>0</th>\n",
       "      <td>2</td>\n",
       "      <td>2023-01-02</td>\n",
       "    </tr>\n",
       "    <tr>\n",
       "      <th>1</th>\n",
       "      <td>3</td>\n",
       "      <td>2023-01-20</td>\n",
       "    </tr>\n",
       "    <tr>\n",
       "      <th>2</th>\n",
       "      <td>6</td>\n",
       "      <td>2023-01-19</td>\n",
       "    </tr>\n",
       "    <tr>\n",
       "      <th>3</th>\n",
       "      <td>7</td>\n",
       "      <td>2023-01-17</td>\n",
       "    </tr>\n",
       "    <tr>\n",
       "      <th>4</th>\n",
       "      <td>8</td>\n",
       "      <td>2023-01-08</td>\n",
       "    </tr>\n",
       "  </tbody>\n",
       "</table>\n",
       "</div>"
      ],
      "text/plain": [
       "   customer_id cancellation_timestamp\n",
       "0            2             2023-01-02\n",
       "1            3             2023-01-20\n",
       "2            6             2023-01-19\n",
       "3            7             2023-01-17\n",
       "4            8             2023-01-08"
      ]
     },
     "execution_count": 177,
     "metadata": {},
     "output_type": "execute_result"
    }
   ],
   "source": [
    "control_group.head()"
   ]
  },
  {
   "cell_type": "code",
   "execution_count": 178,
   "id": "6eea04d4",
   "metadata": {},
   "outputs": [
    {
     "data": {
      "text/plain": [
       "(1622, 2)"
      ]
     },
     "execution_count": 178,
     "metadata": {},
     "output_type": "execute_result"
    }
   ],
   "source": [
    "control_group.shape"
   ]
  },
  {
   "cell_type": "markdown",
   "id": "37e424bd",
   "metadata": {},
   "source": [
    "### Thus, 1622 people were unexposed to our marketing initiative and will act as a reference group. Now we shall begin our analysis and start answering Q1."
   ]
  },
  {
   "cell_type": "markdown",
   "id": "ec0b4e77",
   "metadata": {},
   "source": [
    "# Q1: How well do the different reactivation initiatives work? Please answer this question using pure SQL"
   ]
  },
  {
   "cell_type": "markdown",
   "id": "79f90e18",
   "metadata": {},
   "source": [
    "# CASE 1a: Cancellation --> Call --> Appointment --> Positive (For call)"
   ]
  },
  {
   "cell_type": "markdown",
   "id": "e702bdfb",
   "metadata": {},
   "source": [
    "# Making basic SQL tables: appointments, calls, emails, cancellations, control_group"
   ]
  },
  {
   "cell_type": "code",
   "execution_count": 179,
   "id": "5de32fba",
   "metadata": {},
   "outputs": [],
   "source": [
    "conn = sqlite3.connect(':memory:')"
   ]
  },
  {
   "cell_type": "code",
   "execution_count": 180,
   "id": "c0bd48e3",
   "metadata": {},
   "outputs": [
    {
     "data": {
      "text/plain": [
       "1622"
      ]
     },
     "execution_count": 180,
     "metadata": {},
     "output_type": "execute_result"
    }
   ],
   "source": [
    "# Convert the DataFrame into a SQL table\n",
    "df_appointments.to_sql('appointments', conn, if_exists='replace', index=False)\n",
    "df_calls.to_sql('calls', conn, if_exists='replace', index=False)\n",
    "df_emails.to_sql('emails', conn, if_exists = 'replace', index=False)\n",
    "df_cancellations.to_sql('cancellations', conn, if_exists='replace', index=False)\n",
    "control_group.to_sql('control_group', conn, if_exists='replace', index=False)"
   ]
  },
  {
   "cell_type": "code",
   "execution_count": 181,
   "id": "4f71d278",
   "metadata": {},
   "outputs": [],
   "source": [
    "\n",
    "query1 = \"\"\"\n",
    "SELECT a.customer_id,cc.cancellation_timestamp, c.call_timestamp, a.appointment_timestamp, c.call_answered\n",
    "FROM appointments a\n",
    "JOIN calls c ON a.customer_id = c.customer_id\n",
    "JOIN cancellations cc ON a.customer_id = cc.customer_id\n",
    "WHERE a.appointment_timestamp > cc.cancellation_timestamp\n",
    "  AND a.appointment_timestamp > c.call_timestamp\n",
    "  AND cc.cancellation_timestamp < c.call_timestamp;\n",
    "\"\"\""
   ]
  },
  {
   "cell_type": "code",
   "execution_count": 182,
   "id": "cce4681b",
   "metadata": {},
   "outputs": [],
   "source": [
    "# Execute the SQL query and fetch the results into a new DataFrame\n",
    "result_df = pd.read_sql_query(query1, conn)"
   ]
  },
  {
   "cell_type": "code",
   "execution_count": 183,
   "id": "529131f3",
   "metadata": {},
   "outputs": [
    {
     "name": "stdout",
     "output_type": "stream",
     "text": [
      "     customer_id cancellation_timestamp call_timestamp appointment_timestamp  \\\n",
      "0             11             2023-01-25     2023-02-01            2023-02-17   \n",
      "1             15             2023-01-03     2023-01-06            2023-02-07   \n",
      "2             22             2023-01-03     2023-01-18            2023-02-05   \n",
      "3             23             2023-01-17     2023-01-28            2023-02-15   \n",
      "4             25             2023-01-07     2023-01-21            2023-02-26   \n",
      "5             29             2023-01-20     2023-02-12            2023-02-13   \n",
      "6             30             2023-01-17     2023-01-22            2023-02-25   \n",
      "7             34             2023-01-22     2023-02-15            2023-03-01   \n",
      "8             60             2023-01-15     2023-02-14            2023-02-27   \n",
      "9             62             2023-01-06     2023-01-20            2023-02-27   \n",
      "10            65             2023-01-29     2023-02-15            2023-02-28   \n",
      "11            67             2023-01-24     2023-01-28            2023-02-08   \n",
      "12            79             2023-01-28     2023-01-30            2023-02-24   \n",
      "13            87             2023-01-13     2023-01-30            2023-02-20   \n",
      "14            89             2023-01-01     2023-01-14            2023-03-03   \n",
      "15            94             2023-01-14     2023-02-05            2023-02-16   \n",
      "16           105             2023-01-27     2023-02-05            2023-02-24   \n",
      "17           119             2023-01-24     2023-02-10            2023-02-12   \n",
      "18           132             2023-01-16     2023-02-02            2023-02-10   \n",
      "19           133             2023-01-04     2023-01-14            2023-02-11   \n",
      "20           135             2023-01-22     2023-01-26            2023-02-09   \n",
      "21           140             2023-01-16     2023-01-26            2023-02-09   \n",
      "22           146             2023-01-04     2023-01-30            2023-02-28   \n",
      "23           150             2023-01-03     2023-01-14            2023-02-02   \n",
      "24           154             2023-01-19     2023-01-27            2023-02-08   \n",
      "25           158             2023-01-28     2023-02-11            2023-02-24   \n",
      "26           166             2023-01-12     2023-02-03            2023-02-23   \n",
      "27           174             2023-01-19     2023-02-03            2023-02-06   \n",
      "28           179             2023-01-29     2023-02-17            2023-03-01   \n",
      "29           184             2023-01-02     2023-02-01            2023-02-09   \n",
      "30           185             2023-01-09     2023-02-01            2023-02-27   \n",
      "31           191             2023-01-12     2023-01-25            2023-02-05   \n",
      "32           203             2023-01-06     2023-02-03            2023-03-01   \n",
      "33           212             2023-01-11     2023-01-16            2023-02-12   \n",
      "34           214             2023-01-28     2023-02-16            2023-03-01   \n",
      "35           217             2023-01-10     2023-01-31            2023-02-20   \n",
      "36           223             2023-01-04     2023-01-29            2023-02-20   \n",
      "37           229             2023-01-01     2023-01-05            2023-02-05   \n",
      "38           232             2023-01-10     2023-02-06            2023-02-23   \n",
      "39           240             2023-01-06     2023-01-16            2023-02-06   \n",
      "40           241             2023-01-04     2023-01-29            2023-02-13   \n",
      "41           243             2023-01-05     2023-01-18            2023-02-28   \n",
      "42           247             2023-01-07     2023-01-21            2023-02-24   \n",
      "43           261             2023-01-25     2023-02-09            2023-02-15   \n",
      "44           263             2023-01-04     2023-02-02            2023-02-05   \n",
      "45           264             2023-01-14     2023-02-04            2023-02-13   \n",
      "46           265             2023-01-15     2023-01-21            2023-02-20   \n",
      "47           279             2023-01-27     2023-02-13            2023-02-18   \n",
      "48           282             2023-01-20     2023-02-10            2023-03-03   \n",
      "49           283             2023-01-17     2023-02-15            2023-02-24   \n",
      "50           303             2023-01-05     2023-02-01            2023-02-09   \n",
      "51           326             2023-01-04     2023-01-09            2023-03-01   \n",
      "52           330             2023-01-03     2023-01-21            2023-02-11   \n",
      "53           347             2023-01-01     2023-01-31            2023-02-05   \n",
      "54           357             2023-01-12     2023-02-06            2023-02-11   \n",
      "55           366             2023-01-19     2023-01-28            2023-02-01   \n",
      "56           371             2023-01-25     2023-02-02            2023-02-08   \n",
      "57           372             2023-01-01     2023-01-29            2023-02-21   \n",
      "58           376             2023-01-07     2023-01-28            2023-02-20   \n",
      "59           383             2023-01-01     2023-01-28            2023-02-09   \n",
      "60           391             2023-01-23     2023-01-24            2023-03-03   \n",
      "61           407             2023-01-17     2023-01-20            2023-02-02   \n",
      "62           423             2023-01-18     2023-01-31            2023-02-01   \n",
      "63           434             2023-01-24     2023-01-26            2023-02-11   \n",
      "64           451             2023-01-16     2023-02-06            2023-02-17   \n",
      "65           453             2023-01-22     2023-02-12            2023-02-27   \n",
      "66           460             2023-01-04     2023-01-13            2023-02-10   \n",
      "67           462             2023-01-15     2023-02-13            2023-02-26   \n",
      "68           465             2023-01-22     2023-02-06            2023-02-13   \n",
      "69           466             2023-01-03     2023-01-23            2023-02-24   \n",
      "70           478             2023-01-03     2023-01-05            2023-03-01   \n",
      "71           492             2023-01-09     2023-01-31            2023-03-02   \n",
      "72           522             2023-01-08     2023-02-07            2023-02-15   \n",
      "73           525             2023-01-05     2023-01-11            2023-02-07   \n",
      "74           531             2023-01-03     2023-01-28            2023-02-21   \n",
      "75           535             2023-01-06     2023-01-07            2023-02-08   \n",
      "76           538             2023-01-22     2023-02-21            2023-02-28   \n",
      "77           541             2023-01-10     2023-01-13            2023-02-26   \n",
      "78           545             2023-01-25     2023-02-09            2023-02-27   \n",
      "79           553             2023-01-15     2023-01-27            2023-02-19   \n",
      "80           554             2023-01-07     2023-01-14            2023-02-07   \n",
      "81           555             2023-01-10     2023-02-09            2023-02-26   \n",
      "82           556             2023-01-22     2023-01-26            2023-02-09   \n",
      "83           565             2023-01-18     2023-02-09            2023-02-21   \n",
      "84           567             2023-01-01     2023-01-04            2023-02-13   \n",
      "85           569             2023-01-25     2023-01-26            2023-02-07   \n",
      "86           571             2023-01-14     2023-01-18            2023-02-21   \n",
      "87           579             2023-01-13     2023-01-18            2023-02-06   \n",
      "88           583             2023-01-02     2023-01-18            2023-02-09   \n",
      "89           586             2023-01-22     2023-01-29            2023-02-09   \n",
      "90           588             2023-01-25     2023-02-09            2023-02-20   \n",
      "91           599             2023-01-16     2023-02-09            2023-02-13   \n",
      "92           605             2023-01-22     2023-01-24            2023-02-12   \n",
      "93           607             2023-01-22     2023-02-19            2023-02-20   \n",
      "94           616             2023-01-02     2023-01-10            2023-02-26   \n",
      "95           634             2023-01-12     2023-01-30            2023-02-22   \n",
      "96           644             2023-01-13     2023-02-04            2023-02-17   \n",
      "97           645             2023-01-04     2023-02-03            2023-02-17   \n",
      "98           662             2023-01-03     2023-02-01            2023-02-07   \n",
      "99           667             2023-01-06     2023-01-12            2023-02-26   \n",
      "100          668             2023-01-01     2023-01-25            2023-02-28   \n",
      "101          669             2023-01-18     2023-02-13            2023-02-24   \n",
      "102          671             2023-01-02     2023-01-10            2023-02-27   \n",
      "103          679             2023-01-14     2023-02-11            2023-02-14   \n",
      "104          681             2023-01-01     2023-01-30            2023-03-02   \n",
      "105          694             2023-01-16     2023-01-30            2023-02-25   \n",
      "106          700             2023-01-16     2023-01-27            2023-02-11   \n",
      "107          708             2023-01-10     2023-02-03            2023-02-21   \n",
      "108          726             2023-01-13     2023-02-05            2023-02-12   \n",
      "109          729             2023-01-20     2023-02-06            2023-02-12   \n",
      "110          743             2023-01-17     2023-01-20            2023-02-17   \n",
      "111          747             2023-01-12     2023-01-18            2023-02-11   \n",
      "112          751             2023-01-27     2023-02-07            2023-02-27   \n",
      "113          752             2023-01-10     2023-01-13            2023-02-22   \n",
      "114          753             2023-01-17     2023-02-08            2023-02-18   \n",
      "115          756             2023-01-14     2023-01-15            2023-02-22   \n",
      "116          783             2023-01-27     2023-02-09            2023-02-12   \n",
      "117          794             2023-01-25     2023-02-11            2023-02-13   \n",
      "118          805             2023-01-15     2023-01-23            2023-02-26   \n",
      "119          814             2023-01-14     2023-01-20            2023-02-16   \n",
      "120          829             2023-01-06     2023-01-27            2023-02-03   \n",
      "121          839             2023-01-01     2023-01-11            2023-02-08   \n",
      "122          840             2023-01-08     2023-01-23            2023-02-04   \n",
      "123          855             2023-01-05     2023-02-04            2023-02-06   \n",
      "124          856             2023-01-01     2023-01-09            2023-02-11   \n",
      "125          858             2023-01-26     2023-02-10            2023-02-18   \n",
      "126          859             2023-01-26     2023-02-11            2023-02-14   \n",
      "127          863             2023-01-06     2023-01-24            2023-02-24   \n",
      "128          864             2023-01-21     2023-01-22            2023-02-23   \n",
      "129          875             2023-01-03     2023-01-23            2023-02-28   \n",
      "130          889             2023-01-03     2023-01-19            2023-02-16   \n",
      "131          902             2023-01-04     2023-01-31            2023-02-03   \n",
      "132          935             2023-01-06     2023-01-31            2023-02-06   \n",
      "133          945             2023-01-18     2023-01-19            2023-02-07   \n",
      "134          949             2023-01-04     2023-02-02            2023-02-24   \n",
      "135          950             2023-01-11     2023-02-05            2023-03-03   \n",
      "136          951             2023-01-18     2023-02-15            2023-03-01   \n",
      "137          961             2023-01-05     2023-01-14            2023-02-13   \n",
      "138          962             2023-01-12     2023-01-18            2023-02-16   \n",
      "139          967             2023-01-10     2023-01-25            2023-02-20   \n",
      "140          969             2023-01-21     2023-01-28            2023-02-19   \n",
      "141          990             2023-01-31     2023-02-21            2023-02-23   \n",
      "142          996             2023-01-04     2023-01-31            2023-02-17   \n",
      "143         1005             2023-01-31     2023-02-06            2023-02-07   \n",
      "144         1015             2023-01-08     2023-02-01            2023-02-27   \n",
      "145         1016             2023-01-10     2023-01-16            2023-02-08   \n",
      "146         1019             2023-01-29     2023-02-17            2023-02-27   \n",
      "147         1022             2023-01-15     2023-01-28            2023-02-17   \n",
      "148         1036             2023-01-25     2023-01-29            2023-02-04   \n",
      "149         1045             2023-01-23     2023-02-04            2023-02-17   \n",
      "150         1059             2023-01-20     2023-02-14            2023-02-21   \n",
      "151         1067             2023-01-01     2023-01-28            2023-02-16   \n",
      "152         1068             2023-01-25     2023-02-02            2023-02-08   \n",
      "153         1079             2023-01-13     2023-02-12            2023-02-23   \n",
      "154         1087             2023-01-06     2023-01-12            2023-02-01   \n",
      "155         1094             2023-01-25     2023-02-13            2023-02-17   \n",
      "156         1095             2023-01-05     2023-01-14            2023-02-11   \n",
      "157         1098             2023-01-22     2023-01-29            2023-02-10   \n",
      "158         1119             2023-01-12     2023-01-19            2023-02-23   \n",
      "159         1124             2023-01-31     2023-02-12            2023-02-13   \n",
      "160         1127             2023-01-19     2023-02-15            2023-03-02   \n",
      "161         1129             2023-01-01     2023-01-17            2023-02-05   \n",
      "162         1138             2023-01-30     2023-02-07            2023-02-15   \n",
      "163         1140             2023-01-15     2023-01-30            2023-02-15   \n",
      "164         1141             2023-01-07     2023-01-09            2023-02-21   \n",
      "165         1155             2023-01-12     2023-01-22            2023-02-02   \n",
      "166         1159             2023-01-04     2023-01-06            2023-02-07   \n",
      "167         1163             2023-01-14     2023-01-20            2023-02-24   \n",
      "168         1171             2023-01-04     2023-01-24            2023-02-25   \n",
      "169         1181             2023-01-10     2023-01-11            2023-02-09   \n",
      "170         1183             2023-01-16     2023-01-28            2023-02-13   \n",
      "171         1191             2023-01-27     2023-02-09            2023-02-13   \n",
      "172         1195             2023-01-07     2023-02-05            2023-02-24   \n",
      "173         1203             2023-01-09     2023-01-23            2023-02-17   \n",
      "174         1207             2023-01-30     2023-02-10            2023-02-27   \n",
      "175         1210             2023-01-19     2023-02-06            2023-03-02   \n",
      "176         1211             2023-01-22     2023-01-31            2023-02-07   \n",
      "177         1219             2023-01-11     2023-01-16            2023-02-16   \n",
      "178         1225             2023-01-13     2023-01-30            2023-02-01   \n",
      "179         1233             2023-01-18     2023-02-05            2023-02-06   \n",
      "180         1235             2023-01-02     2023-01-26            2023-02-13   \n",
      "181         1238             2023-01-08     2023-01-20            2023-02-25   \n",
      "182         1245             2023-01-31     2023-02-10            2023-02-15   \n",
      "183         1256             2023-01-13     2023-01-18            2023-02-07   \n",
      "184         1263             2023-01-29     2023-01-31            2023-02-21   \n",
      "185         1265             2023-01-02     2023-01-28            2023-02-27   \n",
      "186         1269             2023-01-06     2023-01-25            2023-02-18   \n",
      "187         1272             2023-01-30     2023-02-02            2023-03-02   \n",
      "188         1277             2023-01-03     2023-01-31            2023-02-20   \n",
      "189         1280             2023-01-17     2023-01-20            2023-02-07   \n",
      "190         1284             2023-01-04     2023-01-15            2023-02-02   \n",
      "191         1288             2023-01-16     2023-01-18            2023-02-28   \n",
      "192         1305             2023-01-17     2023-02-08            2023-02-25   \n",
      "193         1307             2023-01-14     2023-01-24            2023-02-24   \n",
      "194         1308             2023-01-29     2023-02-08            2023-02-27   \n",
      "195         1313             2023-01-25     2023-02-07            2023-02-24   \n",
      "196         1315             2023-01-05     2023-01-10            2023-02-18   \n",
      "197         1331             2023-01-09     2023-01-30            2023-02-18   \n",
      "198         1332             2023-01-06     2023-01-11            2023-02-23   \n",
      "199         1337             2023-01-29     2023-02-03            2023-02-16   \n",
      "200         1353             2023-01-04     2023-01-07            2023-02-23   \n",
      "201         1363             2023-01-17     2023-01-24            2023-02-20   \n",
      "202         1376             2023-01-06     2023-01-08            2023-02-06   \n",
      "203         1379             2023-01-03     2023-02-01            2023-03-02   \n",
      "204         1383             2023-01-22     2023-02-07            2023-02-23   \n",
      "205         1386             2023-01-11     2023-01-23            2023-02-05   \n",
      "206         1391             2023-01-04     2023-01-22            2023-02-13   \n",
      "207         1403             2023-01-15     2023-02-06            2023-02-26   \n",
      "208         1405             2023-01-23     2023-01-29            2023-02-02   \n",
      "209         1412             2023-01-20     2023-02-05            2023-02-12   \n",
      "210         1419             2023-01-31     2023-02-11            2023-02-21   \n",
      "211         1423             2023-01-24     2023-02-09            2023-02-23   \n",
      "212         1429             2023-01-05     2023-01-18            2023-02-04   \n",
      "213         1435             2023-01-10     2023-01-30            2023-02-24   \n",
      "214         1437             2023-01-26     2023-02-12            2023-02-16   \n",
      "215         1447             2023-01-09     2023-01-27            2023-02-24   \n",
      "216         1451             2023-01-25     2023-01-29            2023-02-22   \n",
      "217         1453             2023-01-13     2023-01-19            2023-02-04   \n",
      "218         1455             2023-01-01     2023-01-16            2023-02-13   \n",
      "219         1468             2023-01-04     2023-01-30            2023-02-09   \n",
      "220         1476             2023-01-10     2023-01-16            2023-03-02   \n",
      "221         1478             2023-01-22     2023-02-10            2023-02-23   \n",
      "222         1479             2023-01-20     2023-02-13            2023-02-24   \n",
      "223         1483             2023-01-04     2023-01-08            2023-02-16   \n",
      "224         1490             2023-01-29     2023-02-20            2023-02-21   \n",
      "225         1498             2023-01-25     2023-02-15            2023-02-20   \n",
      "226         1500             2023-01-26     2023-02-03            2023-02-19   \n",
      "227         1501             2023-01-12     2023-01-20            2023-02-18   \n",
      "228         1512             2023-01-22     2023-02-14            2023-02-23   \n",
      "229         1513             2023-01-08     2023-02-03            2023-02-27   \n",
      "230         1514             2023-01-21     2023-02-01            2023-02-04   \n",
      "231         1523             2023-01-17     2023-01-21            2023-02-05   \n",
      "232         1530             2023-01-26     2023-02-19            2023-02-22   \n",
      "233         1535             2023-01-22     2023-01-30            2023-02-15   \n",
      "234         1545             2023-01-18     2023-01-28            2023-03-02   \n",
      "235         1552             2023-01-14     2023-01-15            2023-02-23   \n",
      "236         1554             2023-01-04     2023-01-13            2023-02-05   \n",
      "237         1556             2023-01-22     2023-02-10            2023-02-23   \n",
      "238         1561             2023-01-12     2023-02-01            2023-02-17   \n",
      "239         1562             2023-01-09     2023-01-15            2023-02-23   \n",
      "240         1571             2023-01-15     2023-01-21            2023-02-04   \n",
      "241         1583             2023-01-11     2023-02-05            2023-02-14   \n",
      "242         1593             2023-01-11     2023-01-18            2023-02-17   \n",
      "243         1595             2023-01-30     2023-02-04            2023-02-19   \n",
      "244         1596             2023-01-28     2023-02-02            2023-03-02   \n",
      "245         1597             2023-01-26     2023-01-27            2023-02-27   \n",
      "246         1600             2023-01-06     2023-01-11            2023-02-08   \n",
      "247         1601             2023-01-03     2023-01-16            2023-02-15   \n",
      "248         1610             2023-01-01     2023-01-10            2023-02-27   \n",
      "249         1611             2023-01-01     2023-01-21            2023-02-25   \n",
      "250         1613             2023-01-04     2023-01-16            2023-02-19   \n",
      "251         1640             2023-01-10     2023-01-31            2023-02-13   \n",
      "252         1644             2023-01-01     2023-01-27            2023-02-06   \n",
      "253         1646             2023-01-04     2023-01-11            2023-02-02   \n",
      "254         1654             2023-01-16     2023-02-12            2023-02-16   \n",
      "255         1659             2023-01-14     2023-01-17            2023-02-17   \n",
      "256         1664             2023-01-18     2023-01-25            2023-02-23   \n",
      "257         1667             2023-01-10     2023-01-11            2023-02-03   \n",
      "258         1672             2023-01-14     2023-02-04            2023-02-10   \n",
      "259         1682             2023-01-16     2023-01-25            2023-02-10   \n",
      "260         1684             2023-01-01     2023-01-31            2023-02-02   \n",
      "261         1686             2023-01-15     2023-02-03            2023-02-28   \n",
      "262         1687             2023-01-19     2023-02-04            2023-02-28   \n",
      "263         1688             2023-01-08     2023-01-15            2023-02-05   \n",
      "264         1700             2023-01-28     2023-02-02            2023-02-11   \n",
      "265         1701             2023-01-23     2023-01-25            2023-02-07   \n",
      "266         1705             2023-01-16     2023-02-09            2023-02-24   \n",
      "267         1710             2023-01-18     2023-02-15            2023-02-16   \n",
      "268         1719             2023-01-20     2023-02-03            2023-02-15   \n",
      "269         1721             2023-01-22     2023-02-16            2023-02-18   \n",
      "270         1727             2023-01-23     2023-02-12            2023-02-16   \n",
      "271         1733             2023-01-11     2023-01-24            2023-02-14   \n",
      "272         1741             2023-01-16     2023-02-15            2023-02-26   \n",
      "273         1747             2023-01-12     2023-01-14            2023-02-04   \n",
      "274         1748             2023-01-15     2023-02-04            2023-02-25   \n",
      "275         1751             2023-01-01     2023-01-25            2023-02-27   \n",
      "276         1752             2023-01-06     2023-01-28            2023-03-02   \n",
      "277         1757             2023-01-12     2023-02-11            2023-03-02   \n",
      "278         1775             2023-01-10     2023-01-12            2023-02-10   \n",
      "279         1779             2023-01-31     2023-02-11            2023-02-27   \n",
      "280         1784             2023-01-21     2023-02-12            2023-02-24   \n",
      "281         1793             2023-01-07     2023-02-01            2023-02-23   \n",
      "282         1795             2023-01-23     2023-01-28            2023-02-15   \n",
      "283         1804             2023-01-20     2023-01-23            2023-02-18   \n",
      "284         1825             2023-01-28     2023-02-16            2023-02-17   \n",
      "285         1828             2023-01-02     2023-01-22            2023-02-13   \n",
      "286         1834             2023-01-20     2023-02-12            2023-02-21   \n",
      "287         1851             2023-01-05     2023-01-28            2023-02-08   \n",
      "288         1857             2023-01-22     2023-01-26            2023-02-02   \n",
      "289         1859             2023-01-23     2023-02-01            2023-02-10   \n",
      "290         1869             2023-01-04     2023-01-22            2023-02-23   \n",
      "291         1882             2023-01-04     2023-01-17            2023-02-26   \n",
      "292         1885             2023-01-04     2023-01-11            2023-03-01   \n",
      "293         1894             2023-01-15     2023-01-29            2023-02-06   \n",
      "294         1895             2023-01-25     2023-02-06            2023-02-09   \n",
      "295         1898             2023-01-24     2023-02-09            2023-02-24   \n",
      "296         1900             2023-01-04     2023-01-22            2023-02-11   \n",
      "297         1906             2023-01-05     2023-01-14            2023-02-12   \n",
      "298         1909             2023-01-07     2023-01-22            2023-02-02   \n",
      "299         1917             2023-01-26     2023-02-09            2023-02-13   \n",
      "300         1918             2023-01-16     2023-01-21            2023-02-27   \n",
      "301         1929             2023-01-12     2023-01-23            2023-02-11   \n",
      "302         1930             2023-01-21     2023-01-30            2023-02-27   \n",
      "303         1935             2023-01-25     2023-02-21            2023-02-26   \n",
      "304         1942             2023-01-14     2023-01-15            2023-02-22   \n",
      "305         1947             2023-01-15     2023-01-31            2023-02-19   \n",
      "306         1953             2023-01-12     2023-02-01            2023-02-27   \n",
      "307         1956             2023-01-15     2023-01-27            2023-02-05   \n",
      "308         1957             2023-01-05     2023-01-24            2023-02-27   \n",
      "309         1960             2023-01-23     2023-02-04            2023-02-05   \n",
      "310         1962             2023-01-17     2023-01-31            2023-03-02   \n",
      "311         1965             2023-01-03     2023-01-11            2023-02-14   \n",
      "312         1967             2023-01-11     2023-01-16            2023-02-16   \n",
      "313         1968             2023-01-13     2023-01-28            2023-02-18   \n",
      "314         1971             2023-01-14     2023-01-16            2023-02-02   \n",
      "315         1995             2023-01-18     2023-01-31            2023-02-26   \n",
      "316         1999             2023-01-24     2023-02-09            2023-03-02   \n",
      "317         2004             2023-01-27     2023-02-10            2023-02-22   \n",
      "318         2005             2023-01-09     2023-01-27            2023-02-15   \n",
      "319         2007             2023-01-17     2023-02-03            2023-02-23   \n",
      "320         2016             2023-01-29     2023-02-03            2023-02-28   \n",
      "321         2033             2023-01-10     2023-01-24            2023-02-17   \n",
      "322         2038             2023-01-13     2023-01-15            2023-02-11   \n",
      "323         2045             2023-01-18     2023-01-29            2023-02-09   \n",
      "324         2047             2023-01-07     2023-01-09            2023-03-02   \n",
      "325         2055             2023-01-21     2023-02-06            2023-02-28   \n",
      "326         2066             2023-01-25     2023-02-01            2023-02-14   \n",
      "327         2076             2023-01-09     2023-01-15            2023-03-03   \n",
      "328         2086             2023-01-15     2023-02-03            2023-02-24   \n",
      "329         2089             2023-01-24     2023-01-30            2023-02-03   \n",
      "330         2096             2023-01-19     2023-02-06            2023-02-19   \n",
      "331         2097             2023-01-19     2023-02-03            2023-02-23   \n",
      "332         2098             2023-01-23     2023-02-15            2023-02-25   \n",
      "333         2099             2023-01-29     2023-02-18            2023-02-20   \n",
      "334         2109             2023-01-10     2023-01-26            2023-02-10   \n",
      "335         2110             2023-01-22     2023-01-29            2023-02-25   \n",
      "336         2115             2023-01-22     2023-02-09            2023-02-17   \n",
      "337         2116             2023-01-05     2023-01-16            2023-02-18   \n",
      "338         2118             2023-01-13     2023-02-04            2023-02-28   \n",
      "339         2119             2023-01-17     2023-02-06            2023-02-10   \n",
      "340         2120             2023-01-24     2023-01-30            2023-03-01   \n",
      "341         2122             2023-01-04     2023-02-03            2023-02-09   \n",
      "342         2134             2023-01-14     2023-01-17            2023-02-22   \n",
      "343         2136             2023-01-14     2023-02-02            2023-02-19   \n",
      "344         2140             2023-01-14     2023-02-10            2023-02-21   \n",
      "345         2142             2023-01-05     2023-01-06            2023-02-25   \n",
      "346         2143             2023-01-16     2023-01-18            2023-03-02   \n",
      "347         2159             2023-01-16     2023-02-06            2023-02-28   \n",
      "348         2162             2023-01-15     2023-02-10            2023-02-27   \n",
      "349         2168             2023-01-14     2023-02-02            2023-02-22   \n",
      "350         2170             2023-01-06     2023-01-28            2023-02-01   \n",
      "351         2172             2023-01-17     2023-01-21            2023-02-16   \n",
      "352         2190             2023-01-06     2023-01-24            2023-02-18   \n",
      "353         2196             2023-01-04     2023-01-23            2023-02-27   \n",
      "354         2201             2023-01-04     2023-01-15            2023-02-20   \n",
      "355         2208             2023-01-04     2023-01-26            2023-02-17   \n",
      "356         2214             2023-01-16     2023-01-27            2023-02-13   \n",
      "357         2226             2023-01-29     2023-02-19            2023-02-21   \n",
      "358         2232             2023-01-16     2023-02-15            2023-02-28   \n",
      "359         2237             2023-01-03     2023-01-24            2023-02-01   \n",
      "360         2247             2023-01-11     2023-01-30            2023-02-09   \n",
      "361         2257             2023-01-05     2023-01-09            2023-02-11   \n",
      "362         2259             2023-01-21     2023-01-25            2023-02-11   \n",
      "363         2270             2023-01-26     2023-02-11            2023-02-14   \n",
      "364         2274             2023-01-14     2023-02-02            2023-02-03   \n",
      "365         2290             2023-01-28     2023-02-04            2023-02-20   \n",
      "366         2295             2023-01-21     2023-02-09            2023-02-16   \n",
      "367         2298             2023-01-23     2023-02-12            2023-02-22   \n",
      "368         2300             2023-01-18     2023-02-13            2023-02-25   \n",
      "369         2304             2023-01-18     2023-01-21            2023-02-05   \n",
      "370         2326             2023-01-06     2023-01-10            2023-02-08   \n",
      "371         2331             2023-01-07     2023-02-03            2023-02-20   \n",
      "372         2332             2023-01-08     2023-01-30            2023-02-28   \n",
      "373         2337             2023-01-19     2023-01-27            2023-02-07   \n",
      "374         2350             2023-01-01     2023-01-30            2023-02-06   \n",
      "375         2357             2023-01-17     2023-01-18            2023-02-22   \n",
      "376         2360             2023-01-09     2023-02-05            2023-02-10   \n",
      "377         2363             2023-01-04     2023-01-22            2023-02-16   \n",
      "378         2367             2023-01-05     2023-02-03            2023-02-07   \n",
      "379         2372             2023-01-05     2023-01-11            2023-02-13   \n",
      "380         2375             2023-01-14     2023-01-29            2023-02-22   \n",
      "381         2377             2023-01-06     2023-01-25            2023-02-14   \n",
      "382         2381             2023-01-11     2023-01-28            2023-02-12   \n",
      "383         2390             2023-01-05     2023-01-23            2023-02-25   \n",
      "384         2398             2023-01-29     2023-02-07            2023-02-18   \n",
      "385         2399             2023-01-04     2023-01-18            2023-02-18   \n",
      "386         2402             2023-01-08     2023-01-19            2023-02-06   \n",
      "387         2404             2023-01-20     2023-02-11            2023-03-02   \n",
      "388         2408             2023-01-17     2023-01-30            2023-02-15   \n",
      "389         2410             2023-01-17     2023-01-27            2023-02-01   \n",
      "390         2411             2023-01-13     2023-01-16            2023-02-23   \n",
      "391         2415             2023-01-02     2023-01-19            2023-02-10   \n",
      "392         2419             2023-01-14     2023-02-03            2023-02-14   \n",
      "393         2424             2023-01-21     2023-02-08            2023-02-14   \n",
      "394         2425             2023-01-08     2023-01-23            2023-02-20   \n",
      "395         2438             2023-01-21     2023-02-16            2023-02-26   \n",
      "396         2447             2023-01-21     2023-02-04            2023-02-19   \n",
      "397         2459             2023-01-31     2023-02-06            2023-02-12   \n",
      "398         2461             2023-01-31     2023-02-10            2023-02-13   \n",
      "399         2467             2023-01-27     2023-02-08            2023-02-15   \n",
      "400         2486             2023-01-12     2023-01-31            2023-02-10   \n",
      "401         2487             2023-01-27     2023-02-02            2023-02-22   \n",
      "402         2500             2023-01-10     2023-02-08            2023-02-27   \n",
      "403         2504             2023-01-04     2023-01-27            2023-02-06   \n",
      "404         2510             2023-01-29     2023-02-25            2023-02-27   \n",
      "405         2521             2023-01-11     2023-01-12            2023-02-25   \n",
      "406         2532             2023-01-07     2023-01-22            2023-02-07   \n",
      "407         2536             2023-01-11     2023-01-16            2023-02-19   \n",
      "408         2538             2023-01-30     2023-02-03            2023-02-10   \n",
      "409         2540             2023-01-05     2023-01-10            2023-02-15   \n",
      "410         2542             2023-01-30     2023-02-18            2023-02-28   \n",
      "411         2554             2023-01-23     2023-01-24            2023-03-01   \n",
      "412         2556             2023-01-16     2023-01-25            2023-02-23   \n",
      "413         2561             2023-01-26     2023-02-13            2023-02-15   \n",
      "414         2564             2023-01-21     2023-02-10            2023-02-23   \n",
      "415         2568             2023-01-29     2023-02-03            2023-02-18   \n",
      "416         2575             2023-01-12     2023-01-17            2023-03-02   \n",
      "417         2576             2023-01-27     2023-02-16            2023-02-25   \n",
      "418         2580             2023-01-12     2023-02-01            2023-02-13   \n",
      "419         2582             2023-01-06     2023-01-09            2023-02-22   \n",
      "420         2591             2023-01-30     2023-02-11            2023-03-01   \n",
      "421         2609             2023-01-10     2023-01-21            2023-02-24   \n",
      "422         2621             2023-01-23     2023-02-08            2023-02-22   \n",
      "423         2634             2023-01-17     2023-01-31            2023-02-06   \n",
      "424         2635             2023-01-16     2023-02-06            2023-02-10   \n",
      "425         2637             2023-01-18     2023-02-15            2023-03-02   \n",
      "426         2638             2023-01-07     2023-01-30            2023-02-12   \n",
      "427         2640             2023-01-24     2023-02-02            2023-02-10   \n",
      "428         2642             2023-01-22     2023-02-17            2023-02-24   \n",
      "429         2644             2023-01-20     2023-02-02            2023-02-11   \n",
      "430         2653             2023-01-09     2023-02-03            2023-02-12   \n",
      "431         2660             2023-01-24     2023-02-08            2023-02-10   \n",
      "432         2663             2023-01-07     2023-01-10            2023-03-01   \n",
      "433         2668             2023-01-22     2023-01-31            2023-02-07   \n",
      "434         2675             2023-01-15     2023-02-10            2023-02-17   \n",
      "435         2682             2023-01-21     2023-02-20            2023-02-23   \n",
      "436         2686             2023-01-11     2023-02-01            2023-02-26   \n",
      "437         2687             2023-01-14     2023-01-23            2023-02-26   \n",
      "438         2696             2023-01-12     2023-02-04            2023-02-22   \n",
      "439         2708             2023-01-15     2023-02-07            2023-02-21   \n",
      "440         2709             2023-01-11     2023-01-22            2023-02-05   \n",
      "441         2713             2023-01-11     2023-01-30            2023-03-03   \n",
      "442         2715             2023-01-29     2023-02-02            2023-03-01   \n",
      "443         2728             2023-01-06     2023-01-18            2023-02-13   \n",
      "444         2734             2023-01-04     2023-02-02            2023-02-22   \n",
      "445         2745             2023-01-27     2023-01-30            2023-02-23   \n",
      "446         2748             2023-01-04     2023-01-26            2023-02-19   \n",
      "447         2751             2023-01-31     2023-02-07            2023-02-24   \n",
      "448         2775             2023-01-02     2023-01-03            2023-03-01   \n",
      "449         2789             2023-01-10     2023-01-20            2023-03-02   \n",
      "450         2792             2023-01-14     2023-01-27            2023-02-18   \n",
      "451         2799             2023-01-10     2023-01-24            2023-02-08   \n",
      "452         2800             2023-01-28     2023-02-08            2023-02-13   \n",
      "453         2803             2023-01-04     2023-01-13            2023-03-01   \n",
      "454         2823             2023-01-11     2023-02-08            2023-02-17   \n",
      "455         2824             2023-01-21     2023-02-06            2023-02-12   \n",
      "456         2832             2023-01-19     2023-02-14            2023-02-25   \n",
      "457         2847             2023-01-21     2023-01-30            2023-03-01   \n",
      "458         2858             2023-01-05     2023-02-02            2023-02-21   \n",
      "459         2859             2023-01-26     2023-02-20            2023-03-01   \n",
      "460         2861             2023-01-02     2023-01-13            2023-02-06   \n",
      "461         2865             2023-01-14     2023-01-27            2023-02-15   \n",
      "462         2868             2023-01-21     2023-01-29            2023-02-23   \n",
      "463         2871             2023-01-10     2023-01-16            2023-02-04   \n",
      "464         2877             2023-01-05     2023-01-10            2023-02-14   \n",
      "465         2878             2023-01-16     2023-01-22            2023-02-11   \n",
      "466         2885             2023-01-17     2023-01-27            2023-02-02   \n",
      "467         2888             2023-01-22     2023-01-27            2023-02-04   \n",
      "468         2899             2023-01-12     2023-01-18            2023-02-05   \n",
      "469         2906             2023-01-03     2023-02-02            2023-02-05   \n",
      "470         2913             2023-01-15     2023-01-17            2023-03-03   \n",
      "471         2915             2023-01-23     2023-02-17            2023-02-22   \n",
      "472         2932             2023-01-02     2023-01-20            2023-02-10   \n",
      "473         2933             2023-01-16     2023-01-23            2023-02-19   \n",
      "474         2941             2023-01-15     2023-01-21            2023-02-28   \n",
      "475         2943             2023-01-07     2023-02-06            2023-02-19   \n",
      "476         2945             2023-01-16     2023-01-31            2023-02-11   \n",
      "477         2959             2023-01-12     2023-02-02            2023-02-04   \n",
      "478         2960             2023-01-01     2023-01-04            2023-02-08   \n",
      "479         2961             2023-01-03     2023-01-27            2023-02-28   \n",
      "480         2963             2023-01-01     2023-01-31            2023-02-14   \n",
      "481         2972             2023-01-30     2023-02-01            2023-02-07   \n",
      "482         2986             2023-01-11     2023-01-25            2023-02-21   \n",
      "483         2988             2023-01-18     2023-02-15            2023-02-18   \n",
      "484         2991             2023-01-07     2023-01-22            2023-02-08   \n",
      "485         3000             2023-01-22     2023-02-03            2023-02-18   \n",
      "486         3007             2023-01-11     2023-01-28            2023-02-27   \n",
      "487         3013             2023-01-12     2023-01-24            2023-03-03   \n",
      "488         3014             2023-01-26     2023-01-28            2023-02-20   \n",
      "489         3020             2023-01-26     2023-02-17            2023-02-18   \n",
      "490         3025             2023-01-23     2023-02-03            2023-02-15   \n",
      "491         3031             2023-01-05     2023-02-02            2023-03-01   \n",
      "492         3032             2023-01-26     2023-01-30            2023-02-08   \n",
      "493         3056             2023-01-08     2023-02-02            2023-02-06   \n",
      "494         3069             2023-01-07     2023-01-23            2023-02-10   \n",
      "495         3075             2023-01-22     2023-02-19            2023-02-22   \n",
      "496         3097             2023-01-23     2023-01-31            2023-02-24   \n",
      "497         3098             2023-01-31     2023-02-09            2023-02-20   \n",
      "498         3103             2023-01-13     2023-01-15            2023-02-01   \n",
      "499         3109             2023-01-02     2023-01-13            2023-02-06   \n",
      "500         3114             2023-01-15     2023-01-24            2023-02-06   \n",
      "501         3118             2023-01-07     2023-01-18            2023-03-02   \n",
      "502         3128             2023-01-09     2023-01-10            2023-03-02   \n",
      "503         3132             2023-01-25     2023-02-22            2023-02-23   \n",
      "504         3133             2023-01-03     2023-01-20            2023-02-05   \n",
      "505         3134             2023-01-10     2023-02-02            2023-02-23   \n",
      "506         3135             2023-01-15     2023-01-30            2023-02-20   \n",
      "507         3148             2023-01-14     2023-01-26            2023-02-21   \n",
      "508         3152             2023-01-16     2023-01-25            2023-02-12   \n",
      "509         3153             2023-01-11     2023-01-20            2023-02-26   \n",
      "510         3154             2023-01-09     2023-01-18            2023-03-02   \n",
      "511         3158             2023-01-15     2023-01-29            2023-02-10   \n",
      "512         3166             2023-01-10     2023-02-02            2023-02-12   \n",
      "513         3169             2023-01-17     2023-02-01            2023-02-28   \n",
      "514         3172             2023-01-03     2023-01-04            2023-02-23   \n",
      "515         3177             2023-01-04     2023-01-12            2023-02-06   \n",
      "516         3180             2023-01-12     2023-01-17            2023-02-19   \n",
      "517         3184             2023-01-11     2023-01-28            2023-02-05   \n",
      "518         3189             2023-01-10     2023-02-05            2023-02-21   \n",
      "519         3193             2023-01-22     2023-02-01            2023-02-26   \n",
      "520         3197             2023-01-23     2023-02-08            2023-03-03   \n",
      "521         3202             2023-01-23     2023-01-27            2023-03-03   \n",
      "522         3205             2023-01-30     2023-02-21            2023-02-28   \n",
      "523         3208             2023-01-25     2023-02-03            2023-02-28   \n",
      "524         3209             2023-01-10     2023-01-18            2023-02-03   \n",
      "525         3210             2023-01-10     2023-02-05            2023-02-11   \n",
      "526         3219             2023-01-25     2023-02-17            2023-02-20   \n",
      "527         3220             2023-01-21     2023-01-27            2023-03-01   \n",
      "528         3234             2023-01-07     2023-01-26            2023-02-24   \n",
      "529         3237             2023-01-17     2023-01-25            2023-02-20   \n",
      "530         3255             2023-01-23     2023-02-21            2023-02-23   \n",
      "531         3257             2023-01-07     2023-01-13            2023-02-16   \n",
      "532         3270             2023-01-24     2023-01-25            2023-02-10   \n",
      "533         3271             2023-01-01     2023-01-09            2023-02-23   \n",
      "534         3279             2023-01-14     2023-01-15            2023-03-03   \n",
      "535         3284             2023-01-25     2023-02-17            2023-02-21   \n",
      "536         3286             2023-01-23     2023-02-07            2023-02-13   \n",
      "537         3288             2023-01-10     2023-01-23            2023-02-19   \n",
      "538         3289             2023-01-11     2023-01-13            2023-02-10   \n",
      "539         3292             2023-01-19     2023-02-05            2023-02-11   \n",
      "540         3294             2023-01-02     2023-01-25            2023-02-06   \n",
      "541         3295             2023-01-30     2023-02-03            2023-02-18   \n",
      "542         3297             2023-01-05     2023-01-23            2023-02-15   \n",
      "543         3306             2023-01-19     2023-01-26            2023-02-04   \n",
      "544         3307             2023-01-28     2023-02-10            2023-02-11   \n",
      "545         3322             2023-01-15     2023-02-14            2023-02-27   \n",
      "546         3336             2023-01-16     2023-01-25            2023-02-25   \n",
      "547         3364             2023-01-05     2023-01-07            2023-02-04   \n",
      "548         3376             2023-01-28     2023-01-29            2023-02-17   \n",
      "549         3379             2023-01-14     2023-01-25            2023-02-15   \n",
      "550         3381             2023-01-23     2023-02-07            2023-02-26   \n",
      "551         3404             2023-01-26     2023-02-09            2023-02-19   \n",
      "552         3405             2023-01-08     2023-02-06            2023-02-09   \n",
      "553         3414             2023-01-19     2023-02-02            2023-03-01   \n",
      "554         3420             2023-01-29     2023-02-01            2023-02-13   \n",
      "555         3434             2023-01-06     2023-01-29            2023-02-20   \n",
      "556         3436             2023-01-08     2023-01-18            2023-02-20   \n",
      "557         3438             2023-01-29     2023-02-24            2023-03-02   \n",
      "558         3448             2023-01-19     2023-01-23            2023-02-16   \n",
      "559         3449             2023-01-04     2023-01-24            2023-02-04   \n",
      "560         3454             2023-01-08     2023-01-20            2023-02-03   \n",
      "561         3456             2023-01-28     2023-02-11            2023-03-03   \n",
      "562         3460             2023-01-21     2023-02-08            2023-03-03   \n",
      "563         3466             2023-01-23     2023-02-05            2023-02-06   \n",
      "564         3472             2023-01-16     2023-02-05            2023-02-15   \n",
      "565         3477             2023-01-12     2023-02-07            2023-02-12   \n",
      "566         3479             2023-01-25     2023-02-11            2023-02-15   \n",
      "567         3482             2023-01-25     2023-02-12            2023-02-20   \n",
      "568         3483             2023-01-25     2023-02-10            2023-02-13   \n",
      "569         3485             2023-01-14     2023-02-09            2023-02-23   \n",
      "570         3490             2023-01-17     2023-01-23            2023-02-07   \n",
      "571         3491             2023-01-02     2023-01-17            2023-02-08   \n",
      "572         3496             2023-01-23     2023-02-21            2023-02-28   \n",
      "573         3500             2023-01-13     2023-01-18            2023-02-08   \n",
      "574         3502             2023-01-24     2023-01-27            2023-02-01   \n",
      "575         3503             2023-01-13     2023-01-27            2023-02-19   \n",
      "576         3514             2023-01-11     2023-01-21            2023-02-06   \n",
      "577         3517             2023-01-15     2023-02-14            2023-02-18   \n",
      "578         3526             2023-01-31     2023-02-04            2023-02-18   \n",
      "579         3527             2023-01-15     2023-01-31            2023-02-03   \n",
      "580         3528             2023-01-05     2023-01-15            2023-02-08   \n",
      "581         3539             2023-01-06     2023-01-22            2023-02-15   \n",
      "582         3553             2023-01-15     2023-01-19            2023-02-17   \n",
      "583         3563             2023-01-15     2023-02-04            2023-02-16   \n",
      "584         3565             2023-01-02     2023-01-07            2023-02-21   \n",
      "585         3579             2023-01-15     2023-01-30            2023-02-15   \n",
      "586         3582             2023-01-01     2023-01-27            2023-03-02   \n",
      "587         3583             2023-01-02     2023-01-26            2023-03-03   \n",
      "588         3587             2023-01-07     2023-01-16            2023-02-08   \n",
      "589         3595             2023-01-01     2023-01-13            2023-02-01   \n",
      "590         3601             2023-01-07     2023-01-18            2023-02-22   \n",
      "591         3611             2023-01-27     2023-01-28            2023-02-23   \n",
      "592         3614             2023-01-24     2023-02-09            2023-02-16   \n",
      "593         3618             2023-01-17     2023-02-10            2023-02-18   \n",
      "594         3628             2023-01-30     2023-02-01            2023-03-03   \n",
      "595         3630             2023-01-13     2023-01-19            2023-02-01   \n",
      "596         3655             2023-01-12     2023-01-29            2023-02-11   \n",
      "597         3656             2023-01-02     2023-01-08            2023-02-06   \n",
      "598         3657             2023-01-03     2023-01-26            2023-02-28   \n",
      "599         3659             2023-01-07     2023-01-15            2023-02-15   \n",
      "600         3667             2023-01-18     2023-01-23            2023-02-19   \n",
      "601         3675             2023-01-04     2023-01-07            2023-02-15   \n",
      "602         3677             2023-01-11     2023-01-12            2023-02-23   \n",
      "603         3683             2023-01-25     2023-02-20            2023-02-26   \n",
      "604         3688             2023-01-21     2023-02-08            2023-02-13   \n",
      "605         3700             2023-01-30     2023-01-31            2023-02-24   \n",
      "606         3702             2023-01-15     2023-02-12            2023-02-21   \n",
      "607         3712             2023-01-08     2023-02-01            2023-02-12   \n",
      "608         3719             2023-01-08     2023-01-10            2023-02-23   \n",
      "609         3731             2023-01-07     2023-01-14            2023-02-14   \n",
      "610         3733             2023-01-13     2023-01-16            2023-02-24   \n",
      "611         3740             2023-01-20     2023-01-29            2023-02-24   \n",
      "612         3750             2023-01-26     2023-02-03            2023-02-08   \n",
      "613         3758             2023-01-10     2023-02-07            2023-02-11   \n",
      "614         3765             2023-01-11     2023-01-31            2023-02-15   \n",
      "615         3781             2023-01-13     2023-02-08            2023-02-23   \n",
      "616         3789             2023-01-28     2023-02-04            2023-03-02   \n",
      "617         3797             2023-01-31     2023-02-05            2023-02-18   \n",
      "618         3799             2023-01-05     2023-01-30            2023-02-07   \n",
      "619         3801             2023-01-06     2023-01-14            2023-02-18   \n",
      "620         3805             2023-01-26     2023-02-02            2023-02-20   \n",
      "621         3818             2023-01-08     2023-01-25            2023-02-08   \n",
      "622         3819             2023-01-14     2023-01-25            2023-02-28   \n",
      "623         3824             2023-01-10     2023-01-23            2023-02-28   \n",
      "624         3838             2023-01-13     2023-01-15            2023-02-07   \n",
      "625         3845             2023-01-24     2023-02-12            2023-03-02   \n",
      "626         3850             2023-01-31     2023-02-23            2023-02-26   \n",
      "627         3863             2023-01-20     2023-02-02            2023-02-19   \n",
      "628         3872             2023-01-10     2023-01-28            2023-02-12   \n",
      "629         3873             2023-01-15     2023-01-26            2023-03-01   \n",
      "630         3877             2023-01-20     2023-01-22            2023-02-01   \n",
      "631         3888             2023-01-01     2023-01-31            2023-02-17   \n",
      "632         3897             2023-01-30     2023-02-22            2023-02-27   \n",
      "633         3902             2023-01-12     2023-01-24            2023-02-17   \n",
      "634         3905             2023-01-10     2023-01-16            2023-02-24   \n",
      "635         3909             2023-01-14     2023-02-02            2023-02-06   \n",
      "636         3916             2023-01-19     2023-02-17            2023-02-20   \n",
      "637         3923             2023-01-25     2023-01-29            2023-02-10   \n",
      "638         3935             2023-01-02     2023-01-24            2023-02-15   \n",
      "639         3943             2023-01-16     2023-01-21            2023-02-07   \n",
      "640         3946             2023-01-27     2023-02-22            2023-03-03   \n",
      "641         3948             2023-01-21     2023-02-12            2023-02-27   \n",
      "642         3953             2023-01-22     2023-01-28            2023-02-03   \n",
      "643         3961             2023-01-05     2023-01-18            2023-02-27   \n",
      "644         3964             2023-01-20     2023-01-31            2023-02-24   \n",
      "645         3970             2023-01-01     2023-01-24            2023-02-16   \n",
      "646         3973             2023-01-03     2023-01-25            2023-02-24   \n",
      "647         3974             2023-01-21     2023-01-22            2023-02-06   \n",
      "648         3991             2023-01-09     2023-02-06            2023-02-25   \n",
      "649         3994             2023-01-17     2023-01-18            2023-02-13   \n",
      "650         4000             2023-01-19     2023-01-23            2023-02-04   \n",
      "651         4006             2023-01-30     2023-02-06            2023-02-12   \n",
      "652         4014             2023-01-26     2023-01-28            2023-02-01   \n",
      "653         4016             2023-01-27     2023-02-23            2023-02-25   \n",
      "654         4029             2023-01-16     2023-02-13            2023-02-17   \n",
      "655         4030             2023-01-01     2023-01-16            2023-02-24   \n",
      "656         4033             2023-01-25     2023-02-24            2023-03-01   \n",
      "657         4034             2023-01-23     2023-02-15            2023-03-03   \n",
      "658         4047             2023-01-05     2023-01-18            2023-02-07   \n",
      "659         4048             2023-01-07     2023-01-29            2023-03-02   \n",
      "660         4056             2023-01-27     2023-01-28            2023-03-02   \n",
      "661         4062             2023-01-06     2023-01-18            2023-02-18   \n",
      "662         4065             2023-01-07     2023-01-09            2023-02-23   \n",
      "663         4066             2023-01-09     2023-01-23            2023-02-17   \n",
      "664         4075             2023-01-28     2023-02-15            2023-02-19   \n",
      "665         4083             2023-01-09     2023-02-07            2023-02-18   \n",
      "666         4087             2023-01-19     2023-01-31            2023-02-06   \n",
      "667         4099             2023-01-01     2023-01-31            2023-02-21   \n",
      "668         4102             2023-01-26     2023-02-07            2023-02-27   \n",
      "669         4108             2023-01-01     2023-01-04            2023-02-02   \n",
      "670         4112             2023-01-31     2023-02-02            2023-02-20   \n",
      "671         4116             2023-01-16     2023-02-06            2023-02-25   \n",
      "672         4129             2023-01-08     2023-02-07            2023-02-26   \n",
      "673         4135             2023-01-20     2023-01-23            2023-03-03   \n",
      "674         4145             2023-01-23     2023-02-08            2023-02-21   \n",
      "675         4146             2023-01-13     2023-02-05            2023-02-09   \n",
      "676         4160             2023-01-25     2023-02-04            2023-02-21   \n",
      "677         4162             2023-01-08     2023-02-05            2023-02-18   \n",
      "678         4180             2023-01-01     2023-01-12            2023-02-10   \n",
      "679         4187             2023-01-11     2023-02-07            2023-02-11   \n",
      "680         4189             2023-01-15     2023-01-18            2023-02-02   \n",
      "681         4193             2023-01-13     2023-01-24            2023-02-24   \n",
      "682         4203             2023-01-30     2023-02-05            2023-02-28   \n",
      "683         4204             2023-01-16     2023-01-20            2023-02-25   \n",
      "684         4213             2023-01-20     2023-02-07            2023-02-16   \n",
      "685         4223             2023-01-23     2023-01-29            2023-03-02   \n",
      "686         4235             2023-01-15     2023-02-06            2023-02-15   \n",
      "687         4236             2023-01-06     2023-01-14            2023-02-02   \n",
      "688         4247             2023-01-06     2023-01-09            2023-03-02   \n",
      "689         4256             2023-01-01     2023-01-20            2023-02-04   \n",
      "690         4257             2023-01-06     2023-01-27            2023-02-10   \n",
      "691         4272             2023-01-22     2023-02-03            2023-03-03   \n",
      "692         4273             2023-01-04     2023-01-05            2023-02-25   \n",
      "693         4276             2023-01-30     2023-02-07            2023-02-27   \n",
      "694         4311             2023-01-08     2023-01-18            2023-02-19   \n",
      "695         4312             2023-01-09     2023-02-08            2023-03-02   \n",
      "696         4313             2023-01-04     2023-01-15            2023-03-03   \n",
      "697         4319             2023-01-24     2023-01-27            2023-03-02   \n",
      "698         4335             2023-01-01     2023-01-15            2023-02-02   \n",
      "699         4341             2023-01-28     2023-02-26            2023-02-27   \n",
      "700         4342             2023-01-13     2023-01-28            2023-02-11   \n",
      "701         4362             2023-01-15     2023-02-13            2023-02-25   \n",
      "702         4375             2023-01-10     2023-02-05            2023-02-23   \n",
      "703         4378             2023-01-22     2023-01-30            2023-02-10   \n",
      "704         4380             2023-01-26     2023-02-01            2023-03-01   \n",
      "705         4383             2023-01-02     2023-01-06            2023-02-08   \n",
      "706         4386             2023-01-10     2023-02-09            2023-03-02   \n",
      "707         4388             2023-01-23     2023-02-09            2023-02-23   \n",
      "708         4410             2023-01-28     2023-02-22            2023-02-24   \n",
      "709         4416             2023-01-24     2023-02-10            2023-02-15   \n",
      "710         4417             2023-01-02     2023-01-09            2023-02-16   \n",
      "711         4425             2023-01-13     2023-02-01            2023-02-28   \n",
      "712         4427             2023-01-27     2023-02-19            2023-02-28   \n",
      "713         4436             2023-01-14     2023-01-27            2023-02-15   \n",
      "714         4438             2023-01-16     2023-02-08            2023-02-28   \n",
      "715         4442             2023-01-13     2023-02-12            2023-02-22   \n",
      "716         4443             2023-01-03     2023-01-19            2023-02-12   \n",
      "717         4444             2023-01-17     2023-01-20            2023-02-09   \n",
      "718         4447             2023-01-10     2023-01-30            2023-02-10   \n",
      "719         4462             2023-01-26     2023-02-12            2023-02-16   \n",
      "720         4465             2023-01-30     2023-02-05            2023-02-20   \n",
      "721         4469             2023-01-21     2023-01-23            2023-02-20   \n",
      "722         4484             2023-01-24     2023-01-29            2023-03-03   \n",
      "723         4485             2023-01-21     2023-01-23            2023-02-15   \n",
      "724         4486             2023-01-01     2023-01-04            2023-02-13   \n",
      "725         4503             2023-01-02     2023-01-26            2023-03-03   \n",
      "726         4516             2023-01-05     2023-01-28            2023-02-09   \n",
      "727         4532             2023-01-24     2023-02-15            2023-03-03   \n",
      "728         4537             2023-01-22     2023-01-27            2023-02-08   \n",
      "729         4543             2023-01-27     2023-02-26            2023-02-27   \n",
      "730         4545             2023-01-13     2023-01-21            2023-03-03   \n",
      "731         4554             2023-01-03     2023-01-08            2023-03-01   \n",
      "732         4556             2023-01-16     2023-02-13            2023-02-19   \n",
      "733         4557             2023-01-21     2023-02-13            2023-03-03   \n",
      "734         4560             2023-01-17     2023-02-09            2023-02-17   \n",
      "735         4579             2023-01-10     2023-01-24            2023-02-17   \n",
      "736         4621             2023-01-28     2023-02-17            2023-02-22   \n",
      "737         4623             2023-01-23     2023-01-28            2023-02-16   \n",
      "738         4627             2023-01-15     2023-02-05            2023-02-28   \n",
      "739         4632             2023-01-05     2023-01-19            2023-02-24   \n",
      "740         4633             2023-01-19     2023-02-04            2023-02-17   \n",
      "741         4641             2023-01-25     2023-02-22            2023-02-26   \n",
      "742         4644             2023-01-04     2023-01-08            2023-02-25   \n",
      "743         4645             2023-01-17     2023-01-26            2023-02-25   \n",
      "744         4660             2023-01-17     2023-01-22            2023-02-19   \n",
      "745         4677             2023-01-17     2023-02-04            2023-02-26   \n",
      "746         4680             2023-01-04     2023-01-31            2023-02-03   \n",
      "747         4682             2023-01-27     2023-02-11            2023-02-23   \n",
      "748         4683             2023-01-02     2023-01-15            2023-02-18   \n",
      "749         4694             2023-01-20     2023-02-01            2023-02-06   \n",
      "750         4704             2023-01-03     2023-01-28            2023-02-10   \n",
      "751         4713             2023-01-15     2023-01-28            2023-02-13   \n",
      "752         4714             2023-01-03     2023-01-25            2023-03-03   \n",
      "753         4720             2023-01-23     2023-02-15            2023-02-19   \n",
      "754         4723             2023-01-07     2023-01-26            2023-02-18   \n",
      "755         4733             2023-01-12     2023-01-24            2023-02-11   \n",
      "756         4743             2023-01-05     2023-01-12            2023-02-12   \n",
      "757         4746             2023-01-14     2023-01-27            2023-02-05   \n",
      "758         4754             2023-01-04     2023-01-07            2023-02-09   \n",
      "759         4761             2023-01-11     2023-01-18            2023-02-24   \n",
      "760         4766             2023-01-11     2023-02-01            2023-02-11   \n",
      "761         4782             2023-01-30     2023-02-03            2023-02-12   \n",
      "762         4784             2023-01-06     2023-01-24            2023-02-12   \n",
      "763         4791             2023-01-26     2023-02-19            2023-03-03   \n",
      "764         4795             2023-01-12     2023-01-17            2023-02-06   \n",
      "765         4796             2023-01-23     2023-02-16            2023-02-28   \n",
      "766         4802             2023-01-20     2023-02-11            2023-02-19   \n",
      "767         4817             2023-01-26     2023-02-24            2023-02-25   \n",
      "768         4819             2023-01-18     2023-02-11            2023-02-18   \n",
      "769         4827             2023-01-09     2023-01-31            2023-03-02   \n",
      "770         4834             2023-01-05     2023-01-14            2023-02-12   \n",
      "771         4847             2023-01-08     2023-01-31            2023-02-27   \n",
      "772         4855             2023-01-12     2023-01-24            2023-02-21   \n",
      "773         4858             2023-01-17     2023-02-02            2023-02-28   \n",
      "774         4867             2023-01-30     2023-02-12            2023-02-20   \n",
      "775         4877             2023-01-25     2023-02-06            2023-02-18   \n",
      "776         4880             2023-01-03     2023-01-31            2023-02-20   \n",
      "777         4888             2023-01-06     2023-01-20            2023-02-05   \n",
      "778         4897             2023-01-26     2023-01-31            2023-02-22   \n",
      "779         4899             2023-01-01     2023-01-11            2023-02-06   \n",
      "780         4909             2023-01-16     2023-01-22            2023-02-28   \n",
      "781         4914             2023-01-18     2023-01-29            2023-03-01   \n",
      "782         4926             2023-01-14     2023-02-11            2023-02-16   \n",
      "783         4928             2023-01-18     2023-01-19            2023-02-04   \n",
      "784         4933             2023-01-22     2023-02-19            2023-03-03   \n",
      "785         4939             2023-01-17     2023-01-22            2023-03-03   \n",
      "786         4946             2023-01-06     2023-01-15            2023-02-22   \n",
      "787         4947             2023-01-22     2023-02-04            2023-03-02   \n",
      "788         4952             2023-01-29     2023-01-31            2023-02-28   \n",
      "789         4954             2023-01-06     2023-01-27            2023-02-05   \n",
      "790         4956             2023-01-12     2023-01-20            2023-02-06   \n",
      "791         4965             2023-01-13     2023-01-27            2023-02-14   \n",
      "792         4974             2023-01-18     2023-02-16            2023-02-27   \n",
      "793         4984             2023-01-07     2023-01-22            2023-02-26   \n",
      "794         4989             2023-01-13     2023-01-21            2023-02-04   \n",
      "\n",
      "     call_answered  \n",
      "0                1  \n",
      "1                1  \n",
      "2                0  \n",
      "3                0  \n",
      "4                1  \n",
      "5                0  \n",
      "6                0  \n",
      "7                1  \n",
      "8                0  \n",
      "9                0  \n",
      "10               1  \n",
      "11               1  \n",
      "12               1  \n",
      "13               1  \n",
      "14               1  \n",
      "15               0  \n",
      "16               0  \n",
      "17               1  \n",
      "18               0  \n",
      "19               1  \n",
      "20               1  \n",
      "21               1  \n",
      "22               0  \n",
      "23               0  \n",
      "24               0  \n",
      "25               1  \n",
      "26               0  \n",
      "27               1  \n",
      "28               1  \n",
      "29               1  \n",
      "30               0  \n",
      "31               0  \n",
      "32               0  \n",
      "33               0  \n",
      "34               0  \n",
      "35               1  \n",
      "36               0  \n",
      "37               1  \n",
      "38               1  \n",
      "39               1  \n",
      "40               0  \n",
      "41               1  \n",
      "42               1  \n",
      "43               0  \n",
      "44               1  \n",
      "45               0  \n",
      "46               1  \n",
      "47               1  \n",
      "48               1  \n",
      "49               1  \n",
      "50               1  \n",
      "51               0  \n",
      "52               1  \n",
      "53               1  \n",
      "54               1  \n",
      "55               1  \n",
      "56               0  \n",
      "57               0  \n",
      "58               1  \n",
      "59               1  \n",
      "60               1  \n",
      "61               1  \n",
      "62               1  \n",
      "63               0  \n",
      "64               0  \n",
      "65               1  \n",
      "66               1  \n",
      "67               0  \n",
      "68               0  \n",
      "69               0  \n",
      "70               0  \n",
      "71               1  \n",
      "72               0  \n",
      "73               1  \n",
      "74               0  \n",
      "75               0  \n",
      "76               0  \n",
      "77               1  \n",
      "78               1  \n",
      "79               1  \n",
      "80               0  \n",
      "81               0  \n",
      "82               0  \n",
      "83               1  \n",
      "84               1  \n",
      "85               0  \n",
      "86               1  \n",
      "87               0  \n",
      "88               0  \n",
      "89               1  \n",
      "90               1  \n",
      "91               1  \n",
      "92               1  \n",
      "93               0  \n",
      "94               0  \n",
      "95               1  \n",
      "96               1  \n",
      "97               1  \n",
      "98               1  \n",
      "99               0  \n",
      "100              0  \n",
      "101              0  \n",
      "102              0  \n",
      "103              1  \n",
      "104              1  \n",
      "105              1  \n",
      "106              1  \n",
      "107              1  \n",
      "108              1  \n",
      "109              1  \n",
      "110              1  \n",
      "111              1  \n",
      "112              1  \n",
      "113              0  \n",
      "114              0  \n",
      "115              0  \n",
      "116              1  \n",
      "117              1  \n",
      "118              0  \n",
      "119              1  \n",
      "120              1  \n",
      "121              0  \n",
      "122              0  \n",
      "123              1  \n",
      "124              0  \n",
      "125              0  \n",
      "126              1  \n",
      "127              1  \n",
      "128              0  \n",
      "129              1  \n",
      "130              0  \n",
      "131              1  \n",
      "132              0  \n",
      "133              1  \n",
      "134              1  \n",
      "135              0  \n",
      "136              0  \n",
      "137              0  \n",
      "138              0  \n",
      "139              0  \n",
      "140              1  \n",
      "141              1  \n",
      "142              1  \n",
      "143              0  \n",
      "144              0  \n",
      "145              0  \n",
      "146              1  \n",
      "147              1  \n",
      "148              1  \n",
      "149              0  \n",
      "150              0  \n",
      "151              0  \n",
      "152              1  \n",
      "153              1  \n",
      "154              1  \n",
      "155              1  \n",
      "156              1  \n",
      "157              0  \n",
      "158              1  \n",
      "159              1  \n",
      "160              0  \n",
      "161              1  \n",
      "162              0  \n",
      "163              0  \n",
      "164              1  \n",
      "165              1  \n",
      "166              0  \n",
      "167              0  \n",
      "168              1  \n",
      "169              0  \n",
      "170              1  \n",
      "171              1  \n",
      "172              1  \n",
      "173              1  \n",
      "174              0  \n",
      "175              0  \n",
      "176              0  \n",
      "177              0  \n",
      "178              0  \n",
      "179              0  \n",
      "180              0  \n",
      "181              0  \n",
      "182              1  \n",
      "183              1  \n",
      "184              1  \n",
      "185              0  \n",
      "186              1  \n",
      "187              1  \n",
      "188              0  \n",
      "189              1  \n",
      "190              0  \n",
      "191              1  \n",
      "192              1  \n",
      "193              0  \n",
      "194              0  \n",
      "195              0  \n",
      "196              0  \n",
      "197              0  \n",
      "198              1  \n",
      "199              0  \n",
      "200              1  \n",
      "201              1  \n",
      "202              0  \n",
      "203              1  \n",
      "204              1  \n",
      "205              1  \n",
      "206              1  \n",
      "207              0  \n",
      "208              1  \n",
      "209              0  \n",
      "210              0  \n",
      "211              1  \n",
      "212              1  \n",
      "213              1  \n",
      "214              0  \n",
      "215              1  \n",
      "216              0  \n",
      "217              1  \n",
      "218              1  \n",
      "219              1  \n",
      "220              1  \n",
      "221              1  \n",
      "222              0  \n",
      "223              0  \n",
      "224              1  \n",
      "225              0  \n",
      "226              1  \n",
      "227              1  \n",
      "228              1  \n",
      "229              1  \n",
      "230              0  \n",
      "231              0  \n",
      "232              0  \n",
      "233              1  \n",
      "234              1  \n",
      "235              0  \n",
      "236              0  \n",
      "237              0  \n",
      "238              1  \n",
      "239              0  \n",
      "240              1  \n",
      "241              0  \n",
      "242              0  \n",
      "243              1  \n",
      "244              1  \n",
      "245              1  \n",
      "246              0  \n",
      "247              1  \n",
      "248              0  \n",
      "249              0  \n",
      "250              1  \n",
      "251              0  \n",
      "252              1  \n",
      "253              1  \n",
      "254              0  \n",
      "255              0  \n",
      "256              1  \n",
      "257              1  \n",
      "258              1  \n",
      "259              1  \n",
      "260              1  \n",
      "261              0  \n",
      "262              1  \n",
      "263              0  \n",
      "264              0  \n",
      "265              1  \n",
      "266              1  \n",
      "267              0  \n",
      "268              0  \n",
      "269              1  \n",
      "270              1  \n",
      "271              0  \n",
      "272              1  \n",
      "273              1  \n",
      "274              1  \n",
      "275              0  \n",
      "276              0  \n",
      "277              1  \n",
      "278              0  \n",
      "279              1  \n",
      "280              1  \n",
      "281              1  \n",
      "282              0  \n",
      "283              0  \n",
      "284              0  \n",
      "285              0  \n",
      "286              0  \n",
      "287              0  \n",
      "288              1  \n",
      "289              1  \n",
      "290              0  \n",
      "291              0  \n",
      "292              1  \n",
      "293              1  \n",
      "294              1  \n",
      "295              1  \n",
      "296              0  \n",
      "297              1  \n",
      "298              1  \n",
      "299              1  \n",
      "300              1  \n",
      "301              0  \n",
      "302              1  \n",
      "303              1  \n",
      "304              0  \n",
      "305              0  \n",
      "306              1  \n",
      "307              0  \n",
      "308              0  \n",
      "309              0  \n",
      "310              1  \n",
      "311              0  \n",
      "312              0  \n",
      "313              0  \n",
      "314              1  \n",
      "315              0  \n",
      "316              1  \n",
      "317              1  \n",
      "318              1  \n",
      "319              1  \n",
      "320              1  \n",
      "321              0  \n",
      "322              0  \n",
      "323              1  \n",
      "324              0  \n",
      "325              0  \n",
      "326              0  \n",
      "327              1  \n",
      "328              0  \n",
      "329              0  \n",
      "330              0  \n",
      "331              0  \n",
      "332              0  \n",
      "333              0  \n",
      "334              1  \n",
      "335              1  \n",
      "336              1  \n",
      "337              1  \n",
      "338              1  \n",
      "339              0  \n",
      "340              0  \n",
      "341              0  \n",
      "342              0  \n",
      "343              1  \n",
      "344              1  \n",
      "345              1  \n",
      "346              0  \n",
      "347              1  \n",
      "348              1  \n",
      "349              0  \n",
      "350              0  \n",
      "351              0  \n",
      "352              1  \n",
      "353              1  \n",
      "354              1  \n",
      "355              1  \n",
      "356              1  \n",
      "357              0  \n",
      "358              0  \n",
      "359              1  \n",
      "360              0  \n",
      "361              0  \n",
      "362              1  \n",
      "363              0  \n",
      "364              0  \n",
      "365              0  \n",
      "366              1  \n",
      "367              0  \n",
      "368              1  \n",
      "369              0  \n",
      "370              1  \n",
      "371              1  \n",
      "372              1  \n",
      "373              0  \n",
      "374              1  \n",
      "375              0  \n",
      "376              1  \n",
      "377              0  \n",
      "378              0  \n",
      "379              1  \n",
      "380              0  \n",
      "381              0  \n",
      "382              0  \n",
      "383              1  \n",
      "384              1  \n",
      "385              0  \n",
      "386              0  \n",
      "387              1  \n",
      "388              1  \n",
      "389              0  \n",
      "390              1  \n",
      "391              0  \n",
      "392              0  \n",
      "393              1  \n",
      "394              0  \n",
      "395              0  \n",
      "396              1  \n",
      "397              0  \n",
      "398              1  \n",
      "399              1  \n",
      "400              0  \n",
      "401              0  \n",
      "402              0  \n",
      "403              0  \n",
      "404              0  \n",
      "405              0  \n",
      "406              1  \n",
      "407              0  \n",
      "408              0  \n",
      "409              1  \n",
      "410              1  \n",
      "411              1  \n",
      "412              0  \n",
      "413              1  \n",
      "414              1  \n",
      "415              0  \n",
      "416              0  \n",
      "417              1  \n",
      "418              1  \n",
      "419              1  \n",
      "420              1  \n",
      "421              1  \n",
      "422              1  \n",
      "423              0  \n",
      "424              1  \n",
      "425              1  \n",
      "426              0  \n",
      "427              1  \n",
      "428              0  \n",
      "429              1  \n",
      "430              1  \n",
      "431              1  \n",
      "432              0  \n",
      "433              0  \n",
      "434              1  \n",
      "435              0  \n",
      "436              0  \n",
      "437              0  \n",
      "438              0  \n",
      "439              1  \n",
      "440              0  \n",
      "441              0  \n",
      "442              1  \n",
      "443              1  \n",
      "444              1  \n",
      "445              0  \n",
      "446              1  \n",
      "447              0  \n",
      "448              0  \n",
      "449              0  \n",
      "450              0  \n",
      "451              1  \n",
      "452              0  \n",
      "453              1  \n",
      "454              0  \n",
      "455              0  \n",
      "456              0  \n",
      "457              0  \n",
      "458              1  \n",
      "459              0  \n",
      "460              0  \n",
      "461              0  \n",
      "462              1  \n",
      "463              1  \n",
      "464              0  \n",
      "465              0  \n",
      "466              0  \n",
      "467              0  \n",
      "468              0  \n",
      "469              0  \n",
      "470              1  \n",
      "471              1  \n",
      "472              1  \n",
      "473              1  \n",
      "474              0  \n",
      "475              0  \n",
      "476              1  \n",
      "477              0  \n",
      "478              1  \n",
      "479              1  \n",
      "480              1  \n",
      "481              1  \n",
      "482              0  \n",
      "483              1  \n",
      "484              0  \n",
      "485              0  \n",
      "486              0  \n",
      "487              0  \n",
      "488              1  \n",
      "489              0  \n",
      "490              1  \n",
      "491              1  \n",
      "492              1  \n",
      "493              1  \n",
      "494              1  \n",
      "495              0  \n",
      "496              1  \n",
      "497              0  \n",
      "498              0  \n",
      "499              1  \n",
      "500              1  \n",
      "501              1  \n",
      "502              1  \n",
      "503              1  \n",
      "504              1  \n",
      "505              0  \n",
      "506              0  \n",
      "507              1  \n",
      "508              0  \n",
      "509              0  \n",
      "510              0  \n",
      "511              1  \n",
      "512              1  \n",
      "513              1  \n",
      "514              0  \n",
      "515              1  \n",
      "516              0  \n",
      "517              0  \n",
      "518              0  \n",
      "519              0  \n",
      "520              1  \n",
      "521              0  \n",
      "522              1  \n",
      "523              0  \n",
      "524              1  \n",
      "525              1  \n",
      "526              0  \n",
      "527              0  \n",
      "528              0  \n",
      "529              1  \n",
      "530              1  \n",
      "531              1  \n",
      "532              1  \n",
      "533              1  \n",
      "534              1  \n",
      "535              0  \n",
      "536              0  \n",
      "537              1  \n",
      "538              1  \n",
      "539              0  \n",
      "540              0  \n",
      "541              1  \n",
      "542              1  \n",
      "543              0  \n",
      "544              1  \n",
      "545              0  \n",
      "546              0  \n",
      "547              1  \n",
      "548              0  \n",
      "549              0  \n",
      "550              1  \n",
      "551              0  \n",
      "552              0  \n",
      "553              0  \n",
      "554              1  \n",
      "555              1  \n",
      "556              1  \n",
      "557              0  \n",
      "558              0  \n",
      "559              0  \n",
      "560              1  \n",
      "561              0  \n",
      "562              1  \n",
      "563              0  \n",
      "564              0  \n",
      "565              1  \n",
      "566              1  \n",
      "567              1  \n",
      "568              0  \n",
      "569              1  \n",
      "570              0  \n",
      "571              1  \n",
      "572              0  \n",
      "573              1  \n",
      "574              1  \n",
      "575              0  \n",
      "576              1  \n",
      "577              1  \n",
      "578              0  \n",
      "579              0  \n",
      "580              1  \n",
      "581              0  \n",
      "582              1  \n",
      "583              0  \n",
      "584              0  \n",
      "585              1  \n",
      "586              0  \n",
      "587              0  \n",
      "588              1  \n",
      "589              0  \n",
      "590              0  \n",
      "591              1  \n",
      "592              1  \n",
      "593              1  \n",
      "594              0  \n",
      "595              1  \n",
      "596              1  \n",
      "597              0  \n",
      "598              0  \n",
      "599              1  \n",
      "600              0  \n",
      "601              0  \n",
      "602              0  \n",
      "603              0  \n",
      "604              1  \n",
      "605              1  \n",
      "606              0  \n",
      "607              1  \n",
      "608              1  \n",
      "609              1  \n",
      "610              0  \n",
      "611              1  \n",
      "612              1  \n",
      "613              0  \n",
      "614              0  \n",
      "615              0  \n",
      "616              1  \n",
      "617              0  \n",
      "618              0  \n",
      "619              1  \n",
      "620              0  \n",
      "621              1  \n",
      "622              1  \n",
      "623              0  \n",
      "624              0  \n",
      "625              1  \n",
      "626              0  \n",
      "627              0  \n",
      "628              1  \n",
      "629              0  \n",
      "630              0  \n",
      "631              0  \n",
      "632              1  \n",
      "633              1  \n",
      "634              1  \n",
      "635              1  \n",
      "636              0  \n",
      "637              1  \n",
      "638              1  \n",
      "639              0  \n",
      "640              0  \n",
      "641              0  \n",
      "642              1  \n",
      "643              0  \n",
      "644              0  \n",
      "645              1  \n",
      "646              1  \n",
      "647              1  \n",
      "648              1  \n",
      "649              1  \n",
      "650              0  \n",
      "651              1  \n",
      "652              0  \n",
      "653              0  \n",
      "654              1  \n",
      "655              1  \n",
      "656              0  \n",
      "657              0  \n",
      "658              0  \n",
      "659              1  \n",
      "660              0  \n",
      "661              1  \n",
      "662              1  \n",
      "663              1  \n",
      "664              0  \n",
      "665              1  \n",
      "666              1  \n",
      "667              0  \n",
      "668              0  \n",
      "669              1  \n",
      "670              0  \n",
      "671              1  \n",
      "672              1  \n",
      "673              0  \n",
      "674              0  \n",
      "675              1  \n",
      "676              0  \n",
      "677              1  \n",
      "678              0  \n",
      "679              1  \n",
      "680              0  \n",
      "681              0  \n",
      "682              0  \n",
      "683              0  \n",
      "684              0  \n",
      "685              1  \n",
      "686              1  \n",
      "687              1  \n",
      "688              1  \n",
      "689              1  \n",
      "690              0  \n",
      "691              1  \n",
      "692              0  \n",
      "693              1  \n",
      "694              0  \n",
      "695              0  \n",
      "696              0  \n",
      "697              1  \n",
      "698              1  \n",
      "699              1  \n",
      "700              0  \n",
      "701              1  \n",
      "702              0  \n",
      "703              1  \n",
      "704              1  \n",
      "705              1  \n",
      "706              1  \n",
      "707              0  \n",
      "708              1  \n",
      "709              0  \n",
      "710              0  \n",
      "711              0  \n",
      "712              0  \n",
      "713              1  \n",
      "714              1  \n",
      "715              1  \n",
      "716              1  \n",
      "717              0  \n",
      "718              1  \n",
      "719              1  \n",
      "720              0  \n",
      "721              1  \n",
      "722              1  \n",
      "723              0  \n",
      "724              0  \n",
      "725              1  \n",
      "726              1  \n",
      "727              1  \n",
      "728              1  \n",
      "729              1  \n",
      "730              1  \n",
      "731              0  \n",
      "732              1  \n",
      "733              1  \n",
      "734              1  \n",
      "735              0  \n",
      "736              1  \n",
      "737              1  \n",
      "738              1  \n",
      "739              1  \n",
      "740              0  \n",
      "741              1  \n",
      "742              1  \n",
      "743              1  \n",
      "744              1  \n",
      "745              0  \n",
      "746              0  \n",
      "747              1  \n",
      "748              1  \n",
      "749              0  \n",
      "750              0  \n",
      "751              1  \n",
      "752              0  \n",
      "753              1  \n",
      "754              0  \n",
      "755              1  \n",
      "756              1  \n",
      "757              1  \n",
      "758              0  \n",
      "759              0  \n",
      "760              0  \n",
      "761              1  \n",
      "762              0  \n",
      "763              0  \n",
      "764              1  \n",
      "765              0  \n",
      "766              0  \n",
      "767              1  \n",
      "768              0  \n",
      "769              1  \n",
      "770              1  \n",
      "771              0  \n",
      "772              0  \n",
      "773              0  \n",
      "774              0  \n",
      "775              0  \n",
      "776              0  \n",
      "777              1  \n",
      "778              1  \n",
      "779              0  \n",
      "780              0  \n",
      "781              0  \n",
      "782              1  \n",
      "783              0  \n",
      "784              0  \n",
      "785              1  \n",
      "786              1  \n",
      "787              1  \n",
      "788              0  \n",
      "789              1  \n",
      "790              1  \n",
      "791              1  \n",
      "792              0  \n",
      "793              0  \n",
      "794              0  \n"
     ]
    }
   ],
   "source": [
    "# Display the result\n",
    "print(result_df)"
   ]
  },
  {
   "cell_type": "code",
   "execution_count": 184,
   "id": "1b41f1b8",
   "metadata": {},
   "outputs": [
    {
     "data": {
      "text/plain": [
       "(795, 5)"
      ]
     },
     "execution_count": 184,
     "metadata": {},
     "output_type": "execute_result"
    }
   ],
   "source": [
    "result_df.shape"
   ]
  },
  {
   "cell_type": "code",
   "execution_count": 185,
   "id": "d247881d",
   "metadata": {
    "scrolled": false
   },
   "outputs": [
    {
     "data": {
      "text/html": [
       "<div>\n",
       "<style scoped>\n",
       "    .dataframe tbody tr th:only-of-type {\n",
       "        vertical-align: middle;\n",
       "    }\n",
       "\n",
       "    .dataframe tbody tr th {\n",
       "        vertical-align: top;\n",
       "    }\n",
       "\n",
       "    .dataframe thead th {\n",
       "        text-align: right;\n",
       "    }\n",
       "</style>\n",
       "<table border=\"1\" class=\"dataframe\">\n",
       "  <thead>\n",
       "    <tr style=\"text-align: right;\">\n",
       "      <th></th>\n",
       "      <th>customer_id</th>\n",
       "      <th>cancellation_timestamp</th>\n",
       "      <th>call_timestamp</th>\n",
       "      <th>appointment_timestamp</th>\n",
       "      <th>call_answered</th>\n",
       "    </tr>\n",
       "  </thead>\n",
       "  <tbody>\n",
       "    <tr>\n",
       "      <th>0</th>\n",
       "      <td>11</td>\n",
       "      <td>2023-01-25</td>\n",
       "      <td>2023-02-01</td>\n",
       "      <td>2023-02-17</td>\n",
       "      <td>1</td>\n",
       "    </tr>\n",
       "    <tr>\n",
       "      <th>1</th>\n",
       "      <td>15</td>\n",
       "      <td>2023-01-03</td>\n",
       "      <td>2023-01-06</td>\n",
       "      <td>2023-02-07</td>\n",
       "      <td>1</td>\n",
       "    </tr>\n",
       "    <tr>\n",
       "      <th>2</th>\n",
       "      <td>22</td>\n",
       "      <td>2023-01-03</td>\n",
       "      <td>2023-01-18</td>\n",
       "      <td>2023-02-05</td>\n",
       "      <td>0</td>\n",
       "    </tr>\n",
       "    <tr>\n",
       "      <th>3</th>\n",
       "      <td>23</td>\n",
       "      <td>2023-01-17</td>\n",
       "      <td>2023-01-28</td>\n",
       "      <td>2023-02-15</td>\n",
       "      <td>0</td>\n",
       "    </tr>\n",
       "    <tr>\n",
       "      <th>4</th>\n",
       "      <td>25</td>\n",
       "      <td>2023-01-07</td>\n",
       "      <td>2023-01-21</td>\n",
       "      <td>2023-02-26</td>\n",
       "      <td>1</td>\n",
       "    </tr>\n",
       "  </tbody>\n",
       "</table>\n",
       "</div>"
      ],
      "text/plain": [
       "   customer_id cancellation_timestamp call_timestamp appointment_timestamp  \\\n",
       "0           11             2023-01-25     2023-02-01            2023-02-17   \n",
       "1           15             2023-01-03     2023-01-06            2023-02-07   \n",
       "2           22             2023-01-03     2023-01-18            2023-02-05   \n",
       "3           23             2023-01-17     2023-01-28            2023-02-15   \n",
       "4           25             2023-01-07     2023-01-21            2023-02-26   \n",
       "\n",
       "   call_answered  \n",
       "0              1  \n",
       "1              1  \n",
       "2              0  \n",
       "3              0  \n",
       "4              1  "
      ]
     },
     "execution_count": 185,
     "metadata": {},
     "output_type": "execute_result"
    }
   ],
   "source": [
    "result_df.head()"
   ]
  },
  {
   "cell_type": "code",
   "execution_count": 186,
   "id": "fa162b4d",
   "metadata": {},
   "outputs": [
    {
     "data": {
      "text/plain": [
       "call_answered\n",
       "1    412\n",
       "0    383\n",
       "Name: count, dtype: int64"
      ]
     },
     "execution_count": 186,
     "metadata": {},
     "output_type": "execute_result"
    }
   ],
   "source": [
    "result_df['call_answered'].value_counts()"
   ]
  },
  {
   "cell_type": "markdown",
   "id": "38e77307",
   "metadata": {},
   "source": [
    "### Total calls made: 1684 --> 885 picked , 799 didn't pick \n",
    "\n",
    "### 795 Converted, But only 412 picked and converted and 383 didn't pick and still converted\n",
    "\n",
    "## Conversion ratio = (Picked and converted )/ Total calls made = 412/1684 = 24.46%\n",
    "\n",
    "### However, it is also important to notice that out of the converted ones more are those who picked our calls (29), but this number is not substantial. \n",
    "\n",
    "### More more detailed insights we can also compare it to the control group, but first let us analyse for emails, then we will do a comparative analysis between control and treatment groups"
   ]
  },
  {
   "cell_type": "markdown",
   "id": "9d7f3011",
   "metadata": {},
   "source": [
    "#  CASE 1b: Cancellation --> Email --> Appointment --> Positive (For Email)"
   ]
  },
  {
   "cell_type": "code",
   "execution_count": 187,
   "id": "660ca518",
   "metadata": {},
   "outputs": [],
   "source": [
    "query_2 = \"\"\" \n",
    "SELECT a.customer_id, cc.cancellation_timestamp, e.email_timestamp, a.appointment_timestamp, e.email_type\n",
    "FROM appointments a\n",
    "JOIN emails e ON a.customer_id = e.customer_id\n",
    "JOIN cancellations cc ON a.customer_id = cc.customer_id\n",
    "WHERE a.appointment_timestamp > cc.cancellation_timestamp\n",
    "AND a.appointment_timestamp > e.email_timestamp\n",
    "AND cc.cancellation_timestamp < e.email_timestamp;\n",
    "\"\"\""
   ]
  },
  {
   "cell_type": "code",
   "execution_count": 188,
   "id": "11cd1f10",
   "metadata": {},
   "outputs": [],
   "source": [
    "# Execute the SQL query and fetch the results into a new DataFrame\n",
    "result_df_2 = pd.read_sql_query(query_2, conn)"
   ]
  },
  {
   "cell_type": "code",
   "execution_count": 189,
   "id": "23bca1fd",
   "metadata": {},
   "outputs": [
    {
     "data": {
      "text/html": [
       "<div>\n",
       "<style scoped>\n",
       "    .dataframe tbody tr th:only-of-type {\n",
       "        vertical-align: middle;\n",
       "    }\n",
       "\n",
       "    .dataframe tbody tr th {\n",
       "        vertical-align: top;\n",
       "    }\n",
       "\n",
       "    .dataframe thead th {\n",
       "        text-align: right;\n",
       "    }\n",
       "</style>\n",
       "<table border=\"1\" class=\"dataframe\">\n",
       "  <thead>\n",
       "    <tr style=\"text-align: right;\">\n",
       "      <th></th>\n",
       "      <th>customer_id</th>\n",
       "      <th>cancellation_timestamp</th>\n",
       "      <th>email_timestamp</th>\n",
       "      <th>appointment_timestamp</th>\n",
       "      <th>email_type</th>\n",
       "    </tr>\n",
       "  </thead>\n",
       "  <tbody>\n",
       "    <tr>\n",
       "      <th>0</th>\n",
       "      <td>16</td>\n",
       "      <td>2023-01-18</td>\n",
       "      <td>2023-01-19</td>\n",
       "      <td>2023-02-02</td>\n",
       "      <td>promo</td>\n",
       "    </tr>\n",
       "    <tr>\n",
       "      <th>1</th>\n",
       "      <td>16</td>\n",
       "      <td>2023-01-18</td>\n",
       "      <td>2023-01-22</td>\n",
       "      <td>2023-02-02</td>\n",
       "      <td>reactivation</td>\n",
       "    </tr>\n",
       "    <tr>\n",
       "      <th>2</th>\n",
       "      <td>33</td>\n",
       "      <td>2023-01-30</td>\n",
       "      <td>2023-02-03</td>\n",
       "      <td>2023-02-24</td>\n",
       "      <td>update</td>\n",
       "    </tr>\n",
       "    <tr>\n",
       "      <th>3</th>\n",
       "      <td>33</td>\n",
       "      <td>2023-01-30</td>\n",
       "      <td>2023-02-13</td>\n",
       "      <td>2023-02-24</td>\n",
       "      <td>reactivation</td>\n",
       "    </tr>\n",
       "    <tr>\n",
       "      <th>4</th>\n",
       "      <td>35</td>\n",
       "      <td>2023-01-12</td>\n",
       "      <td>2023-01-17</td>\n",
       "      <td>2023-02-06</td>\n",
       "      <td>reactivation</td>\n",
       "    </tr>\n",
       "  </tbody>\n",
       "</table>\n",
       "</div>"
      ],
      "text/plain": [
       "   customer_id cancellation_timestamp email_timestamp appointment_timestamp  \\\n",
       "0           16             2023-01-18      2023-01-19            2023-02-02   \n",
       "1           16             2023-01-18      2023-01-22            2023-02-02   \n",
       "2           33             2023-01-30      2023-02-03            2023-02-24   \n",
       "3           33             2023-01-30      2023-02-13            2023-02-24   \n",
       "4           35             2023-01-12      2023-01-17            2023-02-06   \n",
       "\n",
       "     email_type  \n",
       "0         promo  \n",
       "1  reactivation  \n",
       "2        update  \n",
       "3  reactivation  \n",
       "4  reactivation  "
      ]
     },
     "execution_count": 189,
     "metadata": {},
     "output_type": "execute_result"
    }
   ],
   "source": [
    "result_df_2.head()"
   ]
  },
  {
   "cell_type": "code",
   "execution_count": 190,
   "id": "47c4264e",
   "metadata": {},
   "outputs": [
    {
     "data": {
      "text/plain": [
       "(1362, 5)"
      ]
     },
     "execution_count": 190,
     "metadata": {},
     "output_type": "execute_result"
    }
   ],
   "source": [
    "result_df_2.shape"
   ]
  },
  {
   "cell_type": "code",
   "execution_count": 191,
   "id": "dfdc0e0f",
   "metadata": {},
   "outputs": [
    {
     "data": {
      "text/plain": [
       "customer_id               608\n",
       "cancellation_timestamp     31\n",
       "email_timestamp            55\n",
       "appointment_timestamp      31\n",
       "email_type                  4\n",
       "dtype: int64"
      ]
     },
     "execution_count": 191,
     "metadata": {},
     "output_type": "execute_result"
    }
   ],
   "source": [
    "result_df_2.nunique()"
   ]
  },
  {
   "cell_type": "markdown",
   "id": "22ef6bfb",
   "metadata": {},
   "source": [
    "### Multiple emails have been sent to the same customer at different timestamps and are of differnt types\n",
    "\n",
    "### A total of 4193 emails were sent to 1694 customers. Out of these 608 customers got converted. \n"
   ]
  },
  {
   "cell_type": "code",
   "execution_count": 192,
   "id": "0406aea4",
   "metadata": {
    "scrolled": true
   },
   "outputs": [
    {
     "data": {
      "text/plain": [
       "email_type\n",
       "reactivation    747\n",
       "promo           214\n",
       "update          209\n",
       "newsletter      192\n",
       "Name: count, dtype: int64"
      ]
     },
     "execution_count": 192,
     "metadata": {},
     "output_type": "execute_result"
    }
   ],
   "source": [
    "result_df_2['email_type'].value_counts()"
   ]
  },
  {
   "cell_type": "code",
   "execution_count": 193,
   "id": "b8e9caef",
   "metadata": {},
   "outputs": [
    {
     "data": {
      "text/plain": [
       "<Axes: ylabel='count'>"
      ]
     },
     "execution_count": 193,
     "metadata": {},
     "output_type": "execute_result"
    },
    {
     "data": {
      "image/png": "[encoded data removed]",
      "text/plain": [
       "<Figure size 400x400 with 1 Axes>"
      ]
     },
     "metadata": {},
     "output_type": "display_data"
    }
   ],
   "source": [
    "result_df_2['email_type'].value_counts().plot(kind = 'pie', figsize = (4,4))"
   ]
  },
  {
   "cell_type": "markdown",
   "id": "281c2fea",
   "metadata": {},
   "source": [
    "\n",
    "## Conversion ratio = Conversions/ Customers approached = 608/1694 = 35.89% , around 11% higher than calls. However, More cases are left and must be analysed before making an inference."
   ]
  },
  {
   "cell_type": "markdown",
   "id": "f6213a1c",
   "metadata": {},
   "source": [
    "# CASE 2a)\tAppointment --> Call --> Cancel --------------- >NEGATIVE"
   ]
  },
  {
   "cell_type": "code",
   "execution_count": 194,
   "id": "864617ff",
   "metadata": {},
   "outputs": [],
   "source": [
    "query_3 = \"\"\"\n",
    "SELECT a.customer_id,cc.cancellation_timestamp, c.call_timestamp, a.appointment_timestamp, c.call_answered\n",
    "FROM appointments a\n",
    "JOIN calls c ON a.customer_id = c.customer_id\n",
    "JOIN cancellations cc ON a.customer_id = cc.customer_id\n",
    "WHERE a.appointment_timestamp < c.call_timestamp\n",
    "  AND c.call_timestamp < cc.cancellation_timestamp\n",
    "  AND a.appointment_timestamp < cc.cancellation_timestamp;\n",
    "\"\"\""
   ]
  },
  {
   "cell_type": "code",
   "execution_count": 195,
   "id": "942da87b",
   "metadata": {},
   "outputs": [],
   "source": [
    "# Execute the SQL query and fetch the results into a new DataFrame\n",
    "result_df_3 = pd.read_sql_query(query_3, conn)"
   ]
  },
  {
   "cell_type": "code",
   "execution_count": 196,
   "id": "bbab678c",
   "metadata": {},
   "outputs": [
    {
     "data": {
      "text/plain": [
       "(0, 5)"
      ]
     },
     "execution_count": 196,
     "metadata": {},
     "output_type": "execute_result"
    }
   ],
   "source": [
    "result_df_3.shape"
   ]
  },
  {
   "cell_type": "code",
   "execution_count": 197,
   "id": "3b32ad8e",
   "metadata": {},
   "outputs": [
    {
     "data": {
      "text/html": [
       "<div>\n",
       "<style scoped>\n",
       "    .dataframe tbody tr th:only-of-type {\n",
       "        vertical-align: middle;\n",
       "    }\n",
       "\n",
       "    .dataframe tbody tr th {\n",
       "        vertical-align: top;\n",
       "    }\n",
       "\n",
       "    .dataframe thead th {\n",
       "        text-align: right;\n",
       "    }\n",
       "</style>\n",
       "<table border=\"1\" class=\"dataframe\">\n",
       "  <thead>\n",
       "    <tr style=\"text-align: right;\">\n",
       "      <th></th>\n",
       "      <th>customer_id</th>\n",
       "      <th>cancellation_timestamp</th>\n",
       "      <th>call_timestamp</th>\n",
       "      <th>appointment_timestamp</th>\n",
       "      <th>call_answered</th>\n",
       "    </tr>\n",
       "  </thead>\n",
       "  <tbody>\n",
       "  </tbody>\n",
       "</table>\n",
       "</div>"
      ],
      "text/plain": [
       "Empty DataFrame\n",
       "Columns: [customer_id, cancellation_timestamp, call_timestamp, appointment_timestamp, call_answered]\n",
       "Index: []"
      ]
     },
     "execution_count": 197,
     "metadata": {},
     "output_type": "execute_result"
    }
   ],
   "source": [
    "result_df_3.head(5)"
   ]
  },
  {
   "cell_type": "markdown",
   "id": "a010d17f",
   "metadata": {},
   "source": [
    "### Just cross-checking in Python "
   ]
  },
  {
   "cell_type": "code",
   "execution_count": 198,
   "id": "48b70ac4",
   "metadata": {},
   "outputs": [
    {
     "name": "stdout",
     "output_type": "stream",
     "text": [
      "Empty DataFrame\n",
      "Columns: [customer_id, appointment_timestamp, call_timestamp, call_answered, cancellation_timestamp]\n",
      "Index: []\n"
     ]
    }
   ],
   "source": [
    "merged_df = pd.merge(df_appointments, df_calls, on='customer_id')\n",
    "merged_df = pd.merge(merged_df, df_cancellations, on='customer_id')\n",
    "\n",
    "# Filter records\n",
    "filtered_records = merged_df[(merged_df['appointment_timestamp'] < merged_df['call_timestamp']) & \n",
    "                             (merged_df['call_timestamp'] < merged_df['cancellation_timestamp'])]\n",
    "\n",
    "print(filtered_records)"
   ]
  },
  {
   "cell_type": "markdown",
   "id": "f5c23246",
   "metadata": {},
   "source": [
    "# No such case exist"
   ]
  },
  {
   "cell_type": "markdown",
   "id": "10e27c48",
   "metadata": {},
   "source": [
    "# CASE 2b)\tAppointment --> Email --> Cancel --------------- >NEGATIVE RESULT"
   ]
  },
  {
   "cell_type": "code",
   "execution_count": 199,
   "id": "af0908ed",
   "metadata": {},
   "outputs": [],
   "source": [
    "query_4 = \"\"\"\n",
    "SELECT a.customer_id, a.appointment_timestamp, e.email_timestamp, c.cancellation_timestamp\n",
    "FROM appointments AS a\n",
    "INNER JOIN emails AS e ON a.customer_id = e.customer_id\n",
    "INNER JOIN cancellations AS c ON a.customer_id = c.customer_id\n",
    "WHERE a.appointment_timestamp < e.email_timestamp AND e.email_timestamp < c.cancellation_timestamp;\n",
    "\"\"\""
   ]
  },
  {
   "cell_type": "code",
   "execution_count": 200,
   "id": "39cf362a",
   "metadata": {},
   "outputs": [],
   "source": [
    "# Execute the SQL query and fetch the results into a new DataFrame\n",
    "result_df_4 = pd.read_sql_query(query_4, conn)"
   ]
  },
  {
   "cell_type": "code",
   "execution_count": 201,
   "id": "934376f6",
   "metadata": {},
   "outputs": [
    {
     "data": {
      "text/plain": [
       "(0, 4)"
      ]
     },
     "execution_count": 201,
     "metadata": {},
     "output_type": "execute_result"
    }
   ],
   "source": [
    "result_df_4.shape"
   ]
  },
  {
   "cell_type": "code",
   "execution_count": 202,
   "id": "beaa5e52",
   "metadata": {},
   "outputs": [
    {
     "data": {
      "text/html": [
       "<div>\n",
       "<style scoped>\n",
       "    .dataframe tbody tr th:only-of-type {\n",
       "        vertical-align: middle;\n",
       "    }\n",
       "\n",
       "    .dataframe tbody tr th {\n",
       "        vertical-align: top;\n",
       "    }\n",
       "\n",
       "    .dataframe thead th {\n",
       "        text-align: right;\n",
       "    }\n",
       "</style>\n",
       "<table border=\"1\" class=\"dataframe\">\n",
       "  <thead>\n",
       "    <tr style=\"text-align: right;\">\n",
       "      <th></th>\n",
       "      <th>customer_id</th>\n",
       "      <th>appointment_timestamp</th>\n",
       "      <th>email_timestamp</th>\n",
       "      <th>cancellation_timestamp</th>\n",
       "    </tr>\n",
       "  </thead>\n",
       "  <tbody>\n",
       "  </tbody>\n",
       "</table>\n",
       "</div>"
      ],
      "text/plain": [
       "Empty DataFrame\n",
       "Columns: [customer_id, appointment_timestamp, email_timestamp, cancellation_timestamp]\n",
       "Index: []"
      ]
     },
     "execution_count": 202,
     "metadata": {},
     "output_type": "execute_result"
    }
   ],
   "source": [
    "result_df_4.head()"
   ]
  },
  {
   "cell_type": "markdown",
   "id": "652afdef",
   "metadata": {},
   "source": [
    "## Cross-checking in Python "
   ]
  },
  {
   "cell_type": "code",
   "execution_count": 203,
   "id": "2f0d7ee1",
   "metadata": {},
   "outputs": [
    {
     "name": "stdout",
     "output_type": "stream",
     "text": [
      "Empty DataFrame\n",
      "Columns: [customer_id, appointment_timestamp, email_timestamp, email_type, cancellation_timestamp]\n",
      "Index: []\n"
     ]
    }
   ],
   "source": [
    "merged_df = pd.merge(df_appointments, df_emails, on='customer_id')\n",
    "merged_df = pd.merge(merged_df, df_cancellations, on='customer_id')\n",
    "\n",
    "# Filter records\n",
    "filtered_records_2 = merged_df[(merged_df['appointment_timestamp'] < merged_df['email_timestamp']) & \n",
    "                             (merged_df['email_timestamp'] < merged_df['cancellation_timestamp'])]\n",
    "\n",
    "print(filtered_records_2)"
   ]
  },
  {
   "cell_type": "markdown",
   "id": "0e1c89ca",
   "metadata": {},
   "source": [
    "# CASE 3a)\tCall --> Appointment --> Cancel -------------- > POSITIVE "
   ]
  },
  {
   "cell_type": "code",
   "execution_count": 204,
   "id": "666e769d",
   "metadata": {},
   "outputs": [],
   "source": [
    "query_5 = \"\"\"\n",
    "SELECT a.customer_id, c.call_timestamp, a.appointment_timestamp, cc.cancellation_timestamp\n",
    "FROM appointments AS a\n",
    "INNER JOIN calls AS c ON a.customer_id = c.customer_id\n",
    "INNER JOIN cancellations AS cc ON a.customer_id = cc.customer_id\n",
    "WHERE c.call_timestamp < a.appointment_timestamp AND a.appointment_timestamp < cc.cancellation_timestamp;\n",
    "\"\"\""
   ]
  },
  {
   "cell_type": "code",
   "execution_count": 205,
   "id": "9f7c05ae",
   "metadata": {},
   "outputs": [],
   "source": [
    "# Execute the SQL query and fetch the results into a new DataFrame\n",
    "result_df_5 = pd.read_sql_query(query_5, conn)"
   ]
  },
  {
   "cell_type": "code",
   "execution_count": 206,
   "id": "e6d2d530",
   "metadata": {
    "scrolled": true
   },
   "outputs": [
    {
     "data": {
      "text/html": [
       "<div>\n",
       "<style scoped>\n",
       "    .dataframe tbody tr th:only-of-type {\n",
       "        vertical-align: middle;\n",
       "    }\n",
       "\n",
       "    .dataframe tbody tr th {\n",
       "        vertical-align: top;\n",
       "    }\n",
       "\n",
       "    .dataframe thead th {\n",
       "        text-align: right;\n",
       "    }\n",
       "</style>\n",
       "<table border=\"1\" class=\"dataframe\">\n",
       "  <thead>\n",
       "    <tr style=\"text-align: right;\">\n",
       "      <th></th>\n",
       "      <th>customer_id</th>\n",
       "      <th>call_timestamp</th>\n",
       "      <th>appointment_timestamp</th>\n",
       "      <th>cancellation_timestamp</th>\n",
       "    </tr>\n",
       "  </thead>\n",
       "  <tbody>\n",
       "  </tbody>\n",
       "</table>\n",
       "</div>"
      ],
      "text/plain": [
       "Empty DataFrame\n",
       "Columns: [customer_id, call_timestamp, appointment_timestamp, cancellation_timestamp]\n",
       "Index: []"
      ]
     },
     "execution_count": 206,
     "metadata": {},
     "output_type": "execute_result"
    }
   ],
   "source": [
    "result_df_5.head()"
   ]
  },
  {
   "cell_type": "markdown",
   "id": "2fee6906",
   "metadata": {},
   "source": [
    "## Cross-checking"
   ]
  },
  {
   "cell_type": "code",
   "execution_count": 207,
   "id": "236452ef",
   "metadata": {},
   "outputs": [
    {
     "name": "stdout",
     "output_type": "stream",
     "text": [
      "Empty DataFrame\n",
      "Columns: [customer_id, appointment_timestamp, call_timestamp, call_answered, cancellation_timestamp]\n",
      "Index: []\n"
     ]
    }
   ],
   "source": [
    "merged_df = pd.merge(df_appointments, df_calls, on='customer_id')\n",
    "merged_df = pd.merge(merged_df, df_cancellations, on='customer_id')\n",
    "\n",
    "# Filter records\n",
    "filtered_records_2 = merged_df[(merged_df['call_timestamp'] < merged_df['appointment_timestamp']) & \n",
    "                             (merged_df['appointment_timestamp'] < merged_df['cancellation_timestamp'])]\n",
    "\n",
    "print(filtered_records_2)"
   ]
  },
  {
   "cell_type": "markdown",
   "id": "4218038d",
   "metadata": {},
   "source": [
    "# CASE 3b) Email --> Appointment --> Cancel -------------- > POSITIVE "
   ]
  },
  {
   "cell_type": "code",
   "execution_count": 208,
   "id": "033b4c6a",
   "metadata": {},
   "outputs": [],
   "source": [
    "query_6 = \"\"\"\n",
    "SELECT a.customer_id, e.email_timestamp, a.appointment_timestamp, cc.cancellation_timestamp\n",
    "FROM appointments AS a\n",
    "INNER JOIN emails AS e ON a.customer_id = e.customer_id\n",
    "INNER JOIN cancellations AS cc ON a.customer_id = cc.customer_id\n",
    "WHERE e.email_timestamp < a.appointment_timestamp AND a.appointment_timestamp < cc.cancellation_timestamp;\n",
    "\"\"\""
   ]
  },
  {
   "cell_type": "code",
   "execution_count": 209,
   "id": "d86825ca",
   "metadata": {},
   "outputs": [],
   "source": [
    "# Execute the SQL query and fetch the results into a new DataFrame\n",
    "result_df_6 = pd.read_sql_query(query_6, conn)"
   ]
  },
  {
   "cell_type": "code",
   "execution_count": 210,
   "id": "e052a674",
   "metadata": {},
   "outputs": [
    {
     "data": {
      "text/html": [
       "<div>\n",
       "<style scoped>\n",
       "    .dataframe tbody tr th:only-of-type {\n",
       "        vertical-align: middle;\n",
       "    }\n",
       "\n",
       "    .dataframe tbody tr th {\n",
       "        vertical-align: top;\n",
       "    }\n",
       "\n",
       "    .dataframe thead th {\n",
       "        text-align: right;\n",
       "    }\n",
       "</style>\n",
       "<table border=\"1\" class=\"dataframe\">\n",
       "  <thead>\n",
       "    <tr style=\"text-align: right;\">\n",
       "      <th></th>\n",
       "      <th>customer_id</th>\n",
       "      <th>email_timestamp</th>\n",
       "      <th>appointment_timestamp</th>\n",
       "      <th>cancellation_timestamp</th>\n",
       "    </tr>\n",
       "  </thead>\n",
       "  <tbody>\n",
       "  </tbody>\n",
       "</table>\n",
       "</div>"
      ],
      "text/plain": [
       "Empty DataFrame\n",
       "Columns: [customer_id, email_timestamp, appointment_timestamp, cancellation_timestamp]\n",
       "Index: []"
      ]
     },
     "execution_count": 210,
     "metadata": {},
     "output_type": "execute_result"
    }
   ],
   "source": [
    "result_df_6.head()"
   ]
  },
  {
   "cell_type": "markdown",
   "id": "7f4e1123",
   "metadata": {},
   "source": [
    "### No such case exists"
   ]
  },
  {
   "cell_type": "markdown",
   "id": "eb67cb0a",
   "metadata": {},
   "source": [
    "# CASE 4a)\tCall --> Cancel --> Appointment -------------- > Negative"
   ]
  },
  {
   "cell_type": "code",
   "execution_count": 211,
   "id": "04697490",
   "metadata": {},
   "outputs": [],
   "source": [
    "query_7 = \"\"\"\n",
    "SELECT a.customer_id, c.call_timestamp,  cc.cancellation_timestamp , a.appointment_timestamp\n",
    "FROM appointments AS a\n",
    "INNER JOIN calls AS c ON a.customer_id = c.customer_id\n",
    "INNER JOIN cancellations AS cc ON a.customer_id = cc.customer_id\n",
    "WHERE c.call_timestamp < cc.cancellation_timestamp AND cc.cancellation_timestamp < a.appointment_timestamp;\n",
    "\"\"\""
   ]
  },
  {
   "cell_type": "code",
   "execution_count": 212,
   "id": "4fa2416b",
   "metadata": {},
   "outputs": [],
   "source": [
    "# Execute the SQL query and fetch the results into a new DataFrame\n",
    "result_df_7 = pd.read_sql_query(query_7, conn)"
   ]
  },
  {
   "cell_type": "code",
   "execution_count": 213,
   "id": "08e6f339",
   "metadata": {},
   "outputs": [
    {
     "data": {
      "text/html": [
       "<div>\n",
       "<style scoped>\n",
       "    .dataframe tbody tr th:only-of-type {\n",
       "        vertical-align: middle;\n",
       "    }\n",
       "\n",
       "    .dataframe tbody tr th {\n",
       "        vertical-align: top;\n",
       "    }\n",
       "\n",
       "    .dataframe thead th {\n",
       "        text-align: right;\n",
       "    }\n",
       "</style>\n",
       "<table border=\"1\" class=\"dataframe\">\n",
       "  <thead>\n",
       "    <tr style=\"text-align: right;\">\n",
       "      <th></th>\n",
       "      <th>customer_id</th>\n",
       "      <th>call_timestamp</th>\n",
       "      <th>cancellation_timestamp</th>\n",
       "      <th>appointment_timestamp</th>\n",
       "    </tr>\n",
       "  </thead>\n",
       "  <tbody>\n",
       "  </tbody>\n",
       "</table>\n",
       "</div>"
      ],
      "text/plain": [
       "Empty DataFrame\n",
       "Columns: [customer_id, call_timestamp, cancellation_timestamp, appointment_timestamp]\n",
       "Index: []"
      ]
     },
     "execution_count": 213,
     "metadata": {},
     "output_type": "execute_result"
    }
   ],
   "source": [
    "result_df_7.head()"
   ]
  },
  {
   "cell_type": "markdown",
   "id": "d8ec7c0f",
   "metadata": {},
   "source": [
    "### No such case exixts"
   ]
  },
  {
   "cell_type": "markdown",
   "id": "128e64dd",
   "metadata": {},
   "source": [
    "# CASE 4b)\tEmail --> Cancel --> Appointment -------------- > Negative"
   ]
  },
  {
   "cell_type": "code",
   "execution_count": 214,
   "id": "6fa86cca",
   "metadata": {},
   "outputs": [],
   "source": [
    "query_8 = \"\"\"\n",
    "SELECT a.customer_id, e.email_timestamp,  cc.cancellation_timestamp , a.appointment_timestamp\n",
    "FROM appointments AS a\n",
    "INNER JOIN emails AS e ON a.customer_id = e.customer_id\n",
    "INNER JOIN cancellations AS cc ON a.customer_id = cc.customer_id\n",
    "WHERE e.email_timestamp < cc.cancellation_timestamp AND cc.cancellation_timestamp < a.appointment_timestamp;\n",
    "\"\"\""
   ]
  },
  {
   "cell_type": "code",
   "execution_count": 215,
   "id": "ca0d2ad4",
   "metadata": {},
   "outputs": [],
   "source": [
    "# Execute the SQL query and fetch the results into a new DataFrame\n",
    "result_df_8 = pd.read_sql_query(query_8, conn)"
   ]
  },
  {
   "cell_type": "code",
   "execution_count": 216,
   "id": "93601b23",
   "metadata": {},
   "outputs": [
    {
     "data": {
      "text/html": [
       "<div>\n",
       "<style scoped>\n",
       "    .dataframe tbody tr th:only-of-type {\n",
       "        vertical-align: middle;\n",
       "    }\n",
       "\n",
       "    .dataframe tbody tr th {\n",
       "        vertical-align: top;\n",
       "    }\n",
       "\n",
       "    .dataframe thead th {\n",
       "        text-align: right;\n",
       "    }\n",
       "</style>\n",
       "<table border=\"1\" class=\"dataframe\">\n",
       "  <thead>\n",
       "    <tr style=\"text-align: right;\">\n",
       "      <th></th>\n",
       "      <th>customer_id</th>\n",
       "      <th>email_timestamp</th>\n",
       "      <th>cancellation_timestamp</th>\n",
       "      <th>appointment_timestamp</th>\n",
       "    </tr>\n",
       "  </thead>\n",
       "  <tbody>\n",
       "  </tbody>\n",
       "</table>\n",
       "</div>"
      ],
      "text/plain": [
       "Empty DataFrame\n",
       "Columns: [customer_id, email_timestamp, cancellation_timestamp, appointment_timestamp]\n",
       "Index: []"
      ]
     },
     "execution_count": 216,
     "metadata": {},
     "output_type": "execute_result"
    }
   ],
   "source": [
    "result_df_8.head()"
   ]
  },
  {
   "cell_type": "markdown",
   "id": "a8c0fa4e",
   "metadata": {},
   "source": [
    "### No such case exists as well\n"
   ]
  },
  {
   "cell_type": "markdown",
   "id": "5dd17e3f",
   "metadata": {},
   "source": [
    "### Thus, it can be inferred till now that marketing strategy by email yielded 608/1694 = 35.89% conversion rate which is substantially higher than that yielded by calls --> 412/1684 = 24.46%.\n",
    "\n",
    "### Also more or less equal number of customers 1694 and 1684 respectively, were targetted.Thus the base effect has no role here.\n",
    "\n",
    "### This can be attributed to more emails made (4192) and not picking up the calls (49% approx). \n",
    "\n",
    "# Now, we must analyse the control group which was left unexposed to our marketing strategies in order to get a holistic picture"
   ]
  },
  {
   "cell_type": "markdown",
   "id": "74e9ee6a",
   "metadata": {},
   "source": [
    "# CONTROL GROUP ANALYSIS"
   ]
  },
  {
   "cell_type": "code",
   "execution_count": 217,
   "id": "f56b522a",
   "metadata": {},
   "outputs": [
    {
     "data": {
      "text/html": [
       "<div>\n",
       "<style scoped>\n",
       "    .dataframe tbody tr th:only-of-type {\n",
       "        vertical-align: middle;\n",
       "    }\n",
       "\n",
       "    .dataframe tbody tr th {\n",
       "        vertical-align: top;\n",
       "    }\n",
       "\n",
       "    .dataframe thead th {\n",
       "        text-align: right;\n",
       "    }\n",
       "</style>\n",
       "<table border=\"1\" class=\"dataframe\">\n",
       "  <thead>\n",
       "    <tr style=\"text-align: right;\">\n",
       "      <th></th>\n",
       "      <th>customer_id</th>\n",
       "      <th>cancellation_timestamp</th>\n",
       "    </tr>\n",
       "  </thead>\n",
       "  <tbody>\n",
       "    <tr>\n",
       "      <th>0</th>\n",
       "      <td>2</td>\n",
       "      <td>2023-01-02</td>\n",
       "    </tr>\n",
       "    <tr>\n",
       "      <th>1</th>\n",
       "      <td>3</td>\n",
       "      <td>2023-01-20</td>\n",
       "    </tr>\n",
       "    <tr>\n",
       "      <th>2</th>\n",
       "      <td>6</td>\n",
       "      <td>2023-01-19</td>\n",
       "    </tr>\n",
       "    <tr>\n",
       "      <th>3</th>\n",
       "      <td>7</td>\n",
       "      <td>2023-01-17</td>\n",
       "    </tr>\n",
       "    <tr>\n",
       "      <th>4</th>\n",
       "      <td>8</td>\n",
       "      <td>2023-01-08</td>\n",
       "    </tr>\n",
       "  </tbody>\n",
       "</table>\n",
       "</div>"
      ],
      "text/plain": [
       "   customer_id cancellation_timestamp\n",
       "0            2             2023-01-02\n",
       "1            3             2023-01-20\n",
       "2            6             2023-01-19\n",
       "3            7             2023-01-17\n",
       "4            8             2023-01-08"
      ]
     },
     "execution_count": 217,
     "metadata": {},
     "output_type": "execute_result"
    }
   ],
   "source": [
    "control_group.head()"
   ]
  },
  {
   "cell_type": "code",
   "execution_count": 218,
   "id": "87925f31",
   "metadata": {},
   "outputs": [
    {
     "data": {
      "text/plain": [
       "(1622, 2)"
      ]
     },
     "execution_count": 218,
     "metadata": {},
     "output_type": "execute_result"
    }
   ],
   "source": [
    "control_group.shape"
   ]
  },
  {
   "cell_type": "markdown",
   "id": "273cc993",
   "metadata": {},
   "source": [
    "### 1622 Customers are there in control group"
   ]
  },
  {
   "cell_type": "markdown",
   "id": "9d55e63b",
   "metadata": {},
   "source": [
    "### ### Case 1)\tAppointment --> Cancel (The cancelled bookings in control group) "
   ]
  },
  {
   "cell_type": "code",
   "execution_count": 219,
   "id": "054ce524",
   "metadata": {},
   "outputs": [],
   "source": [
    "query_9 = \"\"\"\n",
    "SELECT * \n",
    "FROM appointments AS a\n",
    "INNER JOIN control_group as cg ON a.customer_id = cg.customer_id\n",
    "WHERE cg.cancellation_timestamp > a.appointment_timestamp\n",
    "\"\"\""
   ]
  },
  {
   "cell_type": "code",
   "execution_count": 220,
   "id": "1bc3f97a",
   "metadata": {},
   "outputs": [],
   "source": [
    "# Execute the SQL query and fetch the results into a new DataFrame\n",
    "result_df_9 = pd.read_sql_query(query_9, conn)"
   ]
  },
  {
   "cell_type": "code",
   "execution_count": 221,
   "id": "19bdca7d",
   "metadata": {},
   "outputs": [
    {
     "data": {
      "text/html": [
       "<div>\n",
       "<style scoped>\n",
       "    .dataframe tbody tr th:only-of-type {\n",
       "        vertical-align: middle;\n",
       "    }\n",
       "\n",
       "    .dataframe tbody tr th {\n",
       "        vertical-align: top;\n",
       "    }\n",
       "\n",
       "    .dataframe thead th {\n",
       "        text-align: right;\n",
       "    }\n",
       "</style>\n",
       "<table border=\"1\" class=\"dataframe\">\n",
       "  <thead>\n",
       "    <tr style=\"text-align: right;\">\n",
       "      <th></th>\n",
       "      <th>customer_id</th>\n",
       "      <th>appointment_timestamp</th>\n",
       "      <th>customer_id</th>\n",
       "      <th>cancellation_timestamp</th>\n",
       "    </tr>\n",
       "  </thead>\n",
       "  <tbody>\n",
       "    <tr>\n",
       "      <th>0</th>\n",
       "      <td>2</td>\n",
       "      <td>2022-12-04</td>\n",
       "      <td>2</td>\n",
       "      <td>2023-01-02</td>\n",
       "    </tr>\n",
       "    <tr>\n",
       "      <th>1</th>\n",
       "      <td>2</td>\n",
       "      <td>2022-12-16</td>\n",
       "      <td>2</td>\n",
       "      <td>2023-01-02</td>\n",
       "    </tr>\n",
       "    <tr>\n",
       "      <th>2</th>\n",
       "      <td>2</td>\n",
       "      <td>2022-12-31</td>\n",
       "      <td>2</td>\n",
       "      <td>2023-01-02</td>\n",
       "    </tr>\n",
       "    <tr>\n",
       "      <th>3</th>\n",
       "      <td>3</td>\n",
       "      <td>2022-12-30</td>\n",
       "      <td>3</td>\n",
       "      <td>2023-01-20</td>\n",
       "    </tr>\n",
       "    <tr>\n",
       "      <th>4</th>\n",
       "      <td>3</td>\n",
       "      <td>2022-12-06</td>\n",
       "      <td>3</td>\n",
       "      <td>2023-01-20</td>\n",
       "    </tr>\n",
       "  </tbody>\n",
       "</table>\n",
       "</div>"
      ],
      "text/plain": [
       "   customer_id appointment_timestamp  customer_id cancellation_timestamp\n",
       "0            2            2022-12-04            2             2023-01-02\n",
       "1            2            2022-12-16            2             2023-01-02\n",
       "2            2            2022-12-31            2             2023-01-02\n",
       "3            3            2022-12-30            3             2023-01-20\n",
       "4            3            2022-12-06            3             2023-01-20"
      ]
     },
     "execution_count": 221,
     "metadata": {},
     "output_type": "execute_result"
    }
   ],
   "source": [
    "result_df_9.head()"
   ]
  },
  {
   "cell_type": "code",
   "execution_count": 222,
   "id": "5bdb63e3",
   "metadata": {},
   "outputs": [
    {
     "data": {
      "text/plain": [
       "(3226, 4)"
      ]
     },
     "execution_count": 222,
     "metadata": {},
     "output_type": "execute_result"
    }
   ],
   "source": [
    "result_df_9.shape"
   ]
  },
  {
   "cell_type": "code",
   "execution_count": 223,
   "id": "0eb78031",
   "metadata": {},
   "outputs": [
    {
     "data": {
      "text/plain": [
       "customer_id               1622\n",
       "appointment_timestamp       31\n",
       "customer_id               1622\n",
       "cancellation_timestamp      31\n",
       "dtype: int64"
      ]
     },
     "execution_count": 223,
     "metadata": {},
     "output_type": "execute_result"
    }
   ],
   "source": [
    "result_df_9.nunique()"
   ]
  },
  {
   "cell_type": "markdown",
   "id": "d5714305",
   "metadata": {},
   "source": [
    "\n",
    "# Case 2)\tCancel --> Appointment (without any intervention the cancelled bookings were reactivated)"
   ]
  },
  {
   "cell_type": "code",
   "execution_count": 224,
   "id": "f45415c0",
   "metadata": {},
   "outputs": [],
   "source": [
    "query_10 = \"\"\"\n",
    "SELECT * \n",
    "FROM appointments AS a\n",
    "INNER JOIN control_group as cg ON a.customer_id = cg.customer_id\n",
    "WHERE cg.cancellation_timestamp < a.appointment_timestamp\n",
    "\"\"\""
   ]
  },
  {
   "cell_type": "code",
   "execution_count": 225,
   "id": "1cf7803b",
   "metadata": {},
   "outputs": [],
   "source": [
    "# Execute the SQL query and fetch the results into a new DataFrame\n",
    "result_df_10 = pd.read_sql_query(query_10, conn)"
   ]
  },
  {
   "cell_type": "code",
   "execution_count": 226,
   "id": "c8d17d5e",
   "metadata": {},
   "outputs": [
    {
     "data": {
      "text/html": [
       "<div>\n",
       "<style scoped>\n",
       "    .dataframe tbody tr th:only-of-type {\n",
       "        vertical-align: middle;\n",
       "    }\n",
       "\n",
       "    .dataframe tbody tr th {\n",
       "        vertical-align: top;\n",
       "    }\n",
       "\n",
       "    .dataframe thead th {\n",
       "        text-align: right;\n",
       "    }\n",
       "</style>\n",
       "<table border=\"1\" class=\"dataframe\">\n",
       "  <thead>\n",
       "    <tr style=\"text-align: right;\">\n",
       "      <th></th>\n",
       "      <th>customer_id</th>\n",
       "      <th>appointment_timestamp</th>\n",
       "      <th>customer_id</th>\n",
       "      <th>cancellation_timestamp</th>\n",
       "    </tr>\n",
       "  </thead>\n",
       "  <tbody>\n",
       "    <tr>\n",
       "      <th>0</th>\n",
       "      <td>3</td>\n",
       "      <td>2023-02-04</td>\n",
       "      <td>3</td>\n",
       "      <td>2023-01-20</td>\n",
       "    </tr>\n",
       "    <tr>\n",
       "      <th>1</th>\n",
       "      <td>7</td>\n",
       "      <td>2023-03-01</td>\n",
       "      <td>7</td>\n",
       "      <td>2023-01-17</td>\n",
       "    </tr>\n",
       "    <tr>\n",
       "      <th>2</th>\n",
       "      <td>21</td>\n",
       "      <td>2023-02-05</td>\n",
       "      <td>21</td>\n",
       "      <td>2023-01-31</td>\n",
       "    </tr>\n",
       "    <tr>\n",
       "      <th>3</th>\n",
       "      <td>24</td>\n",
       "      <td>2023-02-01</td>\n",
       "      <td>24</td>\n",
       "      <td>2023-01-13</td>\n",
       "    </tr>\n",
       "    <tr>\n",
       "      <th>4</th>\n",
       "      <td>45</td>\n",
       "      <td>2023-02-17</td>\n",
       "      <td>45</td>\n",
       "      <td>2023-01-10</td>\n",
       "    </tr>\n",
       "  </tbody>\n",
       "</table>\n",
       "</div>"
      ],
      "text/plain": [
       "   customer_id appointment_timestamp  customer_id cancellation_timestamp\n",
       "0            3            2023-02-04            3             2023-01-20\n",
       "1            7            2023-03-01            7             2023-01-17\n",
       "2           21            2023-02-05           21             2023-01-31\n",
       "3           24            2023-02-01           24             2023-01-13\n",
       "4           45            2023-02-17           45             2023-01-10"
      ]
     },
     "execution_count": 226,
     "metadata": {},
     "output_type": "execute_result"
    }
   ],
   "source": [
    "result_df_10.head()"
   ]
  },
  {
   "cell_type": "code",
   "execution_count": 227,
   "id": "d314a6a9",
   "metadata": {},
   "outputs": [
    {
     "data": {
      "text/plain": [
       "(303, 4)"
      ]
     },
     "execution_count": 227,
     "metadata": {},
     "output_type": "execute_result"
    }
   ],
   "source": [
    "result_df_10.shape"
   ]
  },
  {
   "cell_type": "code",
   "execution_count": 228,
   "id": "56c8c289",
   "metadata": {},
   "outputs": [
    {
     "data": {
      "text/plain": [
       "customer_id               303\n",
       "appointment_timestamp      31\n",
       "customer_id               303\n",
       "cancellation_timestamp     31\n",
       "dtype: int64"
      ]
     },
     "execution_count": 228,
     "metadata": {},
     "output_type": "execute_result"
    }
   ],
   "source": [
    "result_df_10.nunique()"
   ]
  },
  {
   "cell_type": "code",
   "execution_count": 229,
   "id": "f98eab13",
   "metadata": {},
   "outputs": [],
   "source": [
    "conn.close()"
   ]
  },
  {
   "cell_type": "markdown",
   "id": "fe53ebb1",
   "metadata": {},
   "source": [
    "### Out of 1622 customers in the control group, 303 convert the bookings without any marketing intervention\n",
    "\n",
    "# This has a conversion rate of 18.68% Approx. Thus it can be inferred that our marketing interventions did have an impact on consumer retention, especially the email intervention which has a conversion rate of 35.89%. \n",
    "# Also, call conversion rate of 24.46% is higher than 18.68 % and has been impactful in increasing revenues alonwith the email intervention "
   ]
  },
  {
   "cell_type": "code",
   "execution_count": null,
   "id": "4bd3a677",
   "metadata": {},
   "outputs": [],
   "source": []
  },
  {
   "cell_type": "code",
   "execution_count": null,
   "id": "9c885a91",
   "metadata": {},
   "outputs": [],
   "source": []
  },
  {
   "cell_type": "markdown",
   "id": "2476e82e",
   "metadata": {},
   "source": [
    "# Question 2: Are the differences between the groups statistically significant? Please answer this question by writing Python code. Please also explain the approach you used for calculating statistical significance."
   ]
  },
  {
   "cell_type": "markdown",
   "id": "fcb220f8",
   "metadata": {},
   "source": [
    "### The differences between the control and treatment group may be statistically significant and we can do hypothesis testing to know whether they are or not.\n",
    "\n",
    "### H0 --> The differences between the groups are not statistically significant\n",
    "### H1 --> The differences between the groups are statistically significant.\n",
    "### There are different tests which can be done like t-test, u-test , THE UNDERLYING IDEA is that the mean, range, standard-deviation should be approximately same because we can compare results from data which has a similar unerlying nature. \n",
    "### ' LIKES SHOULD BE COMPARED ', ONE CANT COMPARE AN ORANGE TO AN APPLE EXCEPT ON SIMILAR PARAMETER LIKE COLOUR, SIZE, ETC. Comparison only makes sense if similar measurable properties are compared.\n",
    "### So lets understand the nature of our data using scipy.stats library of Python\n",
    " "
   ]
  },
  {
   "cell_type": "code",
   "execution_count": 230,
   "id": "deb6a839",
   "metadata": {},
   "outputs": [
    {
     "data": {
      "text/html": [
       "<div>\n",
       "<style scoped>\n",
       "    .dataframe tbody tr th:only-of-type {\n",
       "        vertical-align: middle;\n",
       "    }\n",
       "\n",
       "    .dataframe tbody tr th {\n",
       "        vertical-align: top;\n",
       "    }\n",
       "\n",
       "    .dataframe thead th {\n",
       "        text-align: right;\n",
       "    }\n",
       "</style>\n",
       "<table border=\"1\" class=\"dataframe\">\n",
       "  <thead>\n",
       "    <tr style=\"text-align: right;\">\n",
       "      <th></th>\n",
       "      <th>customer_id</th>\n",
       "      <th>cancellation_timestamp</th>\n",
       "    </tr>\n",
       "  </thead>\n",
       "  <tbody>\n",
       "    <tr>\n",
       "      <th>0</th>\n",
       "      <td>2</td>\n",
       "      <td>2023-01-02</td>\n",
       "    </tr>\n",
       "    <tr>\n",
       "      <th>1</th>\n",
       "      <td>3</td>\n",
       "      <td>2023-01-20</td>\n",
       "    </tr>\n",
       "    <tr>\n",
       "      <th>2</th>\n",
       "      <td>6</td>\n",
       "      <td>2023-01-19</td>\n",
       "    </tr>\n",
       "    <tr>\n",
       "      <th>3</th>\n",
       "      <td>7</td>\n",
       "      <td>2023-01-17</td>\n",
       "    </tr>\n",
       "    <tr>\n",
       "      <th>4</th>\n",
       "      <td>8</td>\n",
       "      <td>2023-01-08</td>\n",
       "    </tr>\n",
       "  </tbody>\n",
       "</table>\n",
       "</div>"
      ],
      "text/plain": [
       "   customer_id cancellation_timestamp\n",
       "0            2             2023-01-02\n",
       "1            3             2023-01-20\n",
       "2            6             2023-01-19\n",
       "3            7             2023-01-17\n",
       "4            8             2023-01-08"
      ]
     },
     "execution_count": 230,
     "metadata": {},
     "output_type": "execute_result"
    }
   ],
   "source": [
    "control_group.head()"
   ]
  },
  {
   "cell_type": "code",
   "execution_count": 231,
   "id": "83970961",
   "metadata": {},
   "outputs": [],
   "source": [
    "import numpy as np\n",
    "import matplotlib.pyplot as plt\n",
    "import numpy as np\n",
    "from scipy import stats"
   ]
  },
  {
   "cell_type": "code",
   "execution_count": 232,
   "id": "277828f1",
   "metadata": {},
   "outputs": [],
   "source": [
    "cg_timestamp = pd.to_datetime(control_group['cancellation_timestamp'])"
   ]
  },
  {
   "cell_type": "code",
   "execution_count": 233,
   "id": "239ba971",
   "metadata": {},
   "outputs": [],
   "source": [
    "control_group['numeric_timestamp'] = (cg_timestamp - pd.Timestamp(\"1970-01-01\")) // pd.Timedelta('1s')"
   ]
  },
  {
   "cell_type": "code",
   "execution_count": 234,
   "id": "78e0073e",
   "metadata": {
    "scrolled": true
   },
   "outputs": [
    {
     "data": {
      "text/html": [
       "<div>\n",
       "<style scoped>\n",
       "    .dataframe tbody tr th:only-of-type {\n",
       "        vertical-align: middle;\n",
       "    }\n",
       "\n",
       "    .dataframe tbody tr th {\n",
       "        vertical-align: top;\n",
       "    }\n",
       "\n",
       "    .dataframe thead th {\n",
       "        text-align: right;\n",
       "    }\n",
       "</style>\n",
       "<table border=\"1\" class=\"dataframe\">\n",
       "  <thead>\n",
       "    <tr style=\"text-align: right;\">\n",
       "      <th></th>\n",
       "      <th>customer_id</th>\n",
       "      <th>cancellation_timestamp</th>\n",
       "      <th>numeric_timestamp</th>\n",
       "    </tr>\n",
       "  </thead>\n",
       "  <tbody>\n",
       "    <tr>\n",
       "      <th>0</th>\n",
       "      <td>2</td>\n",
       "      <td>2023-01-02</td>\n",
       "      <td>1672617600</td>\n",
       "    </tr>\n",
       "    <tr>\n",
       "      <th>1</th>\n",
       "      <td>3</td>\n",
       "      <td>2023-01-20</td>\n",
       "      <td>1674172800</td>\n",
       "    </tr>\n",
       "    <tr>\n",
       "      <th>2</th>\n",
       "      <td>6</td>\n",
       "      <td>2023-01-19</td>\n",
       "      <td>1674086400</td>\n",
       "    </tr>\n",
       "    <tr>\n",
       "      <th>3</th>\n",
       "      <td>7</td>\n",
       "      <td>2023-01-17</td>\n",
       "      <td>1673913600</td>\n",
       "    </tr>\n",
       "    <tr>\n",
       "      <th>4</th>\n",
       "      <td>8</td>\n",
       "      <td>2023-01-08</td>\n",
       "      <td>1673136000</td>\n",
       "    </tr>\n",
       "  </tbody>\n",
       "</table>\n",
       "</div>"
      ],
      "text/plain": [
       "   customer_id cancellation_timestamp  numeric_timestamp\n",
       "0            2             2023-01-02         1672617600\n",
       "1            3             2023-01-20         1674172800\n",
       "2            6             2023-01-19         1674086400\n",
       "3            7             2023-01-17         1673913600\n",
       "4            8             2023-01-08         1673136000"
      ]
     },
     "execution_count": 234,
     "metadata": {},
     "output_type": "execute_result"
    }
   ],
   "source": [
    "control_group.head()"
   ]
  },
  {
   "cell_type": "code",
   "execution_count": 235,
   "id": "76520fb6",
   "metadata": {},
   "outputs": [],
   "source": [
    "mean = control_group['numeric_timestamp'].mean()  # Mean of the distribution\n",
    "std_dev = control_group['numeric_timestamp'].std()  # Standard deviation of the distribution\n",
    "size = len(control_group)  # Number of samples to generate (same as the number of rows in the DataFrame)\n"
   ]
  },
  {
   "cell_type": "code",
   "execution_count": 236,
   "id": "88ef0e8f",
   "metadata": {},
   "outputs": [],
   "source": [
    "# Generate samples from the normal distribution\n",
    "data = np.random.normal(mean, std_dev, size)"
   ]
  },
  {
   "cell_type": "code",
   "execution_count": 237,
   "id": "1ec4dccd",
   "metadata": {},
   "outputs": [
    {
     "data": {
      "image/png": "[encoded data removed]",
      "text/plain": [
       "<Figure size 640x480 with 1 Axes>"
      ]
     },
     "metadata": {},
     "output_type": "display_data"
    }
   ],
   "source": [
    "# Plot the histogram of the generated samples\n",
    "plt.hist(data, bins=30, density=True, alpha=0.6, color='b')\n",
    "plt.show()"
   ]
  },
  {
   "cell_type": "code",
   "execution_count": 238,
   "id": "849787eb",
   "metadata": {},
   "outputs": [
    {
     "data": {
      "text/html": [
       "<div>\n",
       "<style scoped>\n",
       "    .dataframe tbody tr th:only-of-type {\n",
       "        vertical-align: middle;\n",
       "    }\n",
       "\n",
       "    .dataframe tbody tr th {\n",
       "        vertical-align: top;\n",
       "    }\n",
       "\n",
       "    .dataframe thead th {\n",
       "        text-align: right;\n",
       "    }\n",
       "</style>\n",
       "<table border=\"1\" class=\"dataframe\">\n",
       "  <thead>\n",
       "    <tr style=\"text-align: right;\">\n",
       "      <th></th>\n",
       "      <th>customer_id</th>\n",
       "      <th>numeric_timestamp</th>\n",
       "    </tr>\n",
       "  </thead>\n",
       "  <tbody>\n",
       "    <tr>\n",
       "      <th>count</th>\n",
       "      <td>1622.000000</td>\n",
       "      <td>1.622000e+03</td>\n",
       "    </tr>\n",
       "    <tr>\n",
       "      <th>mean</th>\n",
       "      <td>2511.205919</td>\n",
       "      <td>1.673810e+09</td>\n",
       "    </tr>\n",
       "    <tr>\n",
       "      <th>std</th>\n",
       "      <td>1468.595810</td>\n",
       "      <td>7.739107e+05</td>\n",
       "    </tr>\n",
       "    <tr>\n",
       "      <th>min</th>\n",
       "      <td>2.000000</td>\n",
       "      <td>1.672531e+09</td>\n",
       "    </tr>\n",
       "    <tr>\n",
       "      <th>25%</th>\n",
       "      <td>1240.500000</td>\n",
       "      <td>1.673136e+09</td>\n",
       "    </tr>\n",
       "    <tr>\n",
       "      <th>50%</th>\n",
       "      <td>2518.000000</td>\n",
       "      <td>1.673827e+09</td>\n",
       "    </tr>\n",
       "    <tr>\n",
       "      <th>75%</th>\n",
       "      <td>3838.500000</td>\n",
       "      <td>1.674518e+09</td>\n",
       "    </tr>\n",
       "    <tr>\n",
       "      <th>max</th>\n",
       "      <td>5000.000000</td>\n",
       "      <td>1.675123e+09</td>\n",
       "    </tr>\n",
       "  </tbody>\n",
       "</table>\n",
       "</div>"
      ],
      "text/plain": [
       "       customer_id  numeric_timestamp\n",
       "count  1622.000000       1.622000e+03\n",
       "mean   2511.205919       1.673810e+09\n",
       "std    1468.595810       7.739107e+05\n",
       "min       2.000000       1.672531e+09\n",
       "25%    1240.500000       1.673136e+09\n",
       "50%    2518.000000       1.673827e+09\n",
       "75%    3838.500000       1.674518e+09\n",
       "max    5000.000000       1.675123e+09"
      ]
     },
     "execution_count": 238,
     "metadata": {},
     "output_type": "execute_result"
    }
   ],
   "source": [
    "control_group.describe()"
   ]
  },
  {
   "cell_type": "markdown",
   "id": "04e0debe",
   "metadata": {},
   "source": [
    "### The bell Shaped curve depicts data is normally distributed with mean at 1.673810e+09 and STANDARD DEVIATION AS 7.739107e+05"
   ]
  },
  {
   "cell_type": "markdown",
   "id": "cf3020df",
   "metadata": {},
   "source": [
    "### Doing the same for calls and emails timestamps'"
   ]
  },
  {
   "cell_type": "code",
   "execution_count": 239,
   "id": "fef048bc",
   "metadata": {},
   "outputs": [
    {
     "data": {
      "text/html": [
       "<div>\n",
       "<style scoped>\n",
       "    .dataframe tbody tr th:only-of-type {\n",
       "        vertical-align: middle;\n",
       "    }\n",
       "\n",
       "    .dataframe tbody tr th {\n",
       "        vertical-align: top;\n",
       "    }\n",
       "\n",
       "    .dataframe thead th {\n",
       "        text-align: right;\n",
       "    }\n",
       "</style>\n",
       "<table border=\"1\" class=\"dataframe\">\n",
       "  <thead>\n",
       "    <tr style=\"text-align: right;\">\n",
       "      <th></th>\n",
       "      <th>customer_id</th>\n",
       "      <th>call_timestamp</th>\n",
       "      <th>call_answered</th>\n",
       "    </tr>\n",
       "  </thead>\n",
       "  <tbody>\n",
       "    <tr>\n",
       "      <th>0</th>\n",
       "      <td>1</td>\n",
       "      <td>2023-01-22</td>\n",
       "      <td>True</td>\n",
       "    </tr>\n",
       "    <tr>\n",
       "      <th>1</th>\n",
       "      <td>4</td>\n",
       "      <td>2023-02-09</td>\n",
       "      <td>True</td>\n",
       "    </tr>\n",
       "    <tr>\n",
       "      <th>2</th>\n",
       "      <td>9</td>\n",
       "      <td>2023-02-20</td>\n",
       "      <td>False</td>\n",
       "    </tr>\n",
       "    <tr>\n",
       "      <th>3</th>\n",
       "      <td>11</td>\n",
       "      <td>2023-02-01</td>\n",
       "      <td>True</td>\n",
       "    </tr>\n",
       "    <tr>\n",
       "      <th>4</th>\n",
       "      <td>12</td>\n",
       "      <td>2023-02-05</td>\n",
       "      <td>True</td>\n",
       "    </tr>\n",
       "  </tbody>\n",
       "</table>\n",
       "</div>"
      ],
      "text/plain": [
       "   customer_id call_timestamp  call_answered\n",
       "0            1     2023-01-22           True\n",
       "1            4     2023-02-09           True\n",
       "2            9     2023-02-20          False\n",
       "3           11     2023-02-01           True\n",
       "4           12     2023-02-05           True"
      ]
     },
     "execution_count": 239,
     "metadata": {},
     "output_type": "execute_result"
    }
   ],
   "source": [
    "df_calls.head()"
   ]
  },
  {
   "cell_type": "code",
   "execution_count": 240,
   "id": "bab76f66",
   "metadata": {
    "scrolled": true
   },
   "outputs": [],
   "source": [
    "calls_timestamp = pd.to_datetime(df_calls['call_timestamp'])"
   ]
  },
  {
   "cell_type": "code",
   "execution_count": 241,
   "id": "4f850457",
   "metadata": {},
   "outputs": [],
   "source": [
    "df_calls['numeric_timestamp_calls'] = (calls_timestamp - pd.Timestamp(\"1970-01-01\")) // pd.Timedelta('1s')"
   ]
  },
  {
   "cell_type": "code",
   "execution_count": 242,
   "id": "d16af815",
   "metadata": {},
   "outputs": [
    {
     "data": {
      "text/html": [
       "<div>\n",
       "<style scoped>\n",
       "    .dataframe tbody tr th:only-of-type {\n",
       "        vertical-align: middle;\n",
       "    }\n",
       "\n",
       "    .dataframe tbody tr th {\n",
       "        vertical-align: top;\n",
       "    }\n",
       "\n",
       "    .dataframe thead th {\n",
       "        text-align: right;\n",
       "    }\n",
       "</style>\n",
       "<table border=\"1\" class=\"dataframe\">\n",
       "  <thead>\n",
       "    <tr style=\"text-align: right;\">\n",
       "      <th></th>\n",
       "      <th>customer_id</th>\n",
       "      <th>call_timestamp</th>\n",
       "      <th>call_answered</th>\n",
       "      <th>numeric_timestamp_calls</th>\n",
       "    </tr>\n",
       "  </thead>\n",
       "  <tbody>\n",
       "    <tr>\n",
       "      <th>0</th>\n",
       "      <td>1</td>\n",
       "      <td>2023-01-22</td>\n",
       "      <td>True</td>\n",
       "      <td>1674345600</td>\n",
       "    </tr>\n",
       "    <tr>\n",
       "      <th>1</th>\n",
       "      <td>4</td>\n",
       "      <td>2023-02-09</td>\n",
       "      <td>True</td>\n",
       "      <td>1675900800</td>\n",
       "    </tr>\n",
       "    <tr>\n",
       "      <th>2</th>\n",
       "      <td>9</td>\n",
       "      <td>2023-02-20</td>\n",
       "      <td>False</td>\n",
       "      <td>1676851200</td>\n",
       "    </tr>\n",
       "    <tr>\n",
       "      <th>3</th>\n",
       "      <td>11</td>\n",
       "      <td>2023-02-01</td>\n",
       "      <td>True</td>\n",
       "      <td>1675209600</td>\n",
       "    </tr>\n",
       "    <tr>\n",
       "      <th>4</th>\n",
       "      <td>12</td>\n",
       "      <td>2023-02-05</td>\n",
       "      <td>True</td>\n",
       "      <td>1675555200</td>\n",
       "    </tr>\n",
       "  </tbody>\n",
       "</table>\n",
       "</div>"
      ],
      "text/plain": [
       "   customer_id call_timestamp  call_answered  numeric_timestamp_calls\n",
       "0            1     2023-01-22           True               1674345600\n",
       "1            4     2023-02-09           True               1675900800\n",
       "2            9     2023-02-20          False               1676851200\n",
       "3           11     2023-02-01           True               1675209600\n",
       "4           12     2023-02-05           True               1675555200"
      ]
     },
     "execution_count": 242,
     "metadata": {},
     "output_type": "execute_result"
    }
   ],
   "source": [
    "df_calls.head()"
   ]
  },
  {
   "cell_type": "code",
   "execution_count": 243,
   "id": "fc2c3461",
   "metadata": {},
   "outputs": [],
   "source": [
    "mean = df_calls['numeric_timestamp_calls'].mean()  # Mean of the distribution\n",
    "std_dev = df_calls['numeric_timestamp_calls'].std()  # Standard deviation of the distribution\n",
    "size = len(df_calls)  # Number of samples to generate (same as the number of rows in the DataFrame)"
   ]
  },
  {
   "cell_type": "code",
   "execution_count": 244,
   "id": "ccff54fb",
   "metadata": {},
   "outputs": [],
   "source": [
    "# Generate samples from the normal distribution\n",
    "data = np.random.normal(mean, std_dev, size)"
   ]
  },
  {
   "cell_type": "code",
   "execution_count": 245,
   "id": "6b44dc68",
   "metadata": {},
   "outputs": [
    {
     "data": {
      "image/png": "[encoded data removed]",
      "text/plain": [
       "<Figure size 640x480 with 1 Axes>"
      ]
     },
     "metadata": {},
     "output_type": "display_data"
    }
   ],
   "source": [
    "# Plot the histogram of the generated samples\n",
    "plt.hist(data, bins=30, density=True, alpha=0.6, color='b')\n",
    "plt.show()"
   ]
  },
  {
   "cell_type": "code",
   "execution_count": 246,
   "id": "cf1d1309",
   "metadata": {},
   "outputs": [
    {
     "data": {
      "text/html": [
       "<div>\n",
       "<style scoped>\n",
       "    .dataframe tbody tr th:only-of-type {\n",
       "        vertical-align: middle;\n",
       "    }\n",
       "\n",
       "    .dataframe tbody tr th {\n",
       "        vertical-align: top;\n",
       "    }\n",
       "\n",
       "    .dataframe thead th {\n",
       "        text-align: right;\n",
       "    }\n",
       "</style>\n",
       "<table border=\"1\" class=\"dataframe\">\n",
       "  <thead>\n",
       "    <tr style=\"text-align: right;\">\n",
       "      <th></th>\n",
       "      <th>customer_id</th>\n",
       "      <th>numeric_timestamp_calls</th>\n",
       "    </tr>\n",
       "  </thead>\n",
       "  <tbody>\n",
       "    <tr>\n",
       "      <th>count</th>\n",
       "      <td>1684.000000</td>\n",
       "      <td>1.684000e+03</td>\n",
       "    </tr>\n",
       "    <tr>\n",
       "      <th>mean</th>\n",
       "      <td>2480.256532</td>\n",
       "      <td>1.675224e+09</td>\n",
       "    </tr>\n",
       "    <tr>\n",
       "      <th>std</th>\n",
       "      <td>1432.234382</td>\n",
       "      <td>1.080590e+06</td>\n",
       "    </tr>\n",
       "    <tr>\n",
       "      <th>min</th>\n",
       "      <td>1.000000</td>\n",
       "      <td>1.672618e+09</td>\n",
       "    </tr>\n",
       "    <tr>\n",
       "      <th>25%</th>\n",
       "      <td>1260.500000</td>\n",
       "      <td>1.674432e+09</td>\n",
       "    </tr>\n",
       "    <tr>\n",
       "      <th>50%</th>\n",
       "      <td>2502.000000</td>\n",
       "      <td>1.675210e+09</td>\n",
       "    </tr>\n",
       "    <tr>\n",
       "      <th>75%</th>\n",
       "      <td>3700.500000</td>\n",
       "      <td>1.675987e+09</td>\n",
       "    </tr>\n",
       "    <tr>\n",
       "      <th>max</th>\n",
       "      <td>4999.000000</td>\n",
       "      <td>1.677715e+09</td>\n",
       "    </tr>\n",
       "  </tbody>\n",
       "</table>\n",
       "</div>"
      ],
      "text/plain": [
       "       customer_id  numeric_timestamp_calls\n",
       "count  1684.000000             1.684000e+03\n",
       "mean   2480.256532             1.675224e+09\n",
       "std    1432.234382             1.080590e+06\n",
       "min       1.000000             1.672618e+09\n",
       "25%    1260.500000             1.674432e+09\n",
       "50%    2502.000000             1.675210e+09\n",
       "75%    3700.500000             1.675987e+09\n",
       "max    4999.000000             1.677715e+09"
      ]
     },
     "execution_count": 246,
     "metadata": {},
     "output_type": "execute_result"
    }
   ],
   "source": [
    "df_calls.describe()"
   ]
  },
  {
   "cell_type": "markdown",
   "id": "91eca9a9",
   "metadata": {},
   "source": [
    "# The calls timestamps are also normally distributed with mean 1.675224e+09 and Standard Distribution 1.080590e+06"
   ]
  },
  {
   "cell_type": "markdown",
   "id": "c35d5b85",
   "metadata": {},
   "source": [
    "## Now for emails :"
   ]
  },
  {
   "cell_type": "code",
   "execution_count": 247,
   "id": "afd3329c",
   "metadata": {
    "scrolled": true
   },
   "outputs": [],
   "source": [
    "emails_timestamp = pd.to_datetime(df_emails['email_timestamp'])"
   ]
  },
  {
   "cell_type": "code",
   "execution_count": 248,
   "id": "427456aa",
   "metadata": {},
   "outputs": [],
   "source": [
    "df_emails['numeric_timestamp_email'] = (emails_timestamp - pd.Timestamp(\"1970-01-01\")) // pd.Timedelta('1s')"
   ]
  },
  {
   "cell_type": "code",
   "execution_count": 249,
   "id": "a933cb42",
   "metadata": {},
   "outputs": [
    {
     "data": {
      "text/html": [
       "<div>\n",
       "<style scoped>\n",
       "    .dataframe tbody tr th:only-of-type {\n",
       "        vertical-align: middle;\n",
       "    }\n",
       "\n",
       "    .dataframe tbody tr th {\n",
       "        vertical-align: top;\n",
       "    }\n",
       "\n",
       "    .dataframe thead th {\n",
       "        text-align: right;\n",
       "    }\n",
       "</style>\n",
       "<table border=\"1\" class=\"dataframe\">\n",
       "  <thead>\n",
       "    <tr style=\"text-align: right;\">\n",
       "      <th></th>\n",
       "      <th>customer_id</th>\n",
       "      <th>email_timestamp</th>\n",
       "      <th>email_type</th>\n",
       "      <th>numeric_timestamp_email</th>\n",
       "    </tr>\n",
       "  </thead>\n",
       "  <tbody>\n",
       "    <tr>\n",
       "      <th>0</th>\n",
       "      <td>5</td>\n",
       "      <td>2023-01-09</td>\n",
       "      <td>reactivation</td>\n",
       "      <td>1673222400</td>\n",
       "    </tr>\n",
       "    <tr>\n",
       "      <th>1</th>\n",
       "      <td>5</td>\n",
       "      <td>2023-01-19</td>\n",
       "      <td>reactivation</td>\n",
       "      <td>1674086400</td>\n",
       "    </tr>\n",
       "    <tr>\n",
       "      <th>2</th>\n",
       "      <td>5</td>\n",
       "      <td>2023-01-27</td>\n",
       "      <td>update</td>\n",
       "      <td>1674777600</td>\n",
       "    </tr>\n",
       "    <tr>\n",
       "      <th>3</th>\n",
       "      <td>5</td>\n",
       "      <td>2023-01-18</td>\n",
       "      <td>promo</td>\n",
       "      <td>1674000000</td>\n",
       "    </tr>\n",
       "    <tr>\n",
       "      <th>4</th>\n",
       "      <td>16</td>\n",
       "      <td>2023-01-22</td>\n",
       "      <td>reactivation</td>\n",
       "      <td>1674345600</td>\n",
       "    </tr>\n",
       "  </tbody>\n",
       "</table>\n",
       "</div>"
      ],
      "text/plain": [
       "   customer_id email_timestamp    email_type  numeric_timestamp_email\n",
       "0            5      2023-01-09  reactivation               1673222400\n",
       "1            5      2023-01-19  reactivation               1674086400\n",
       "2            5      2023-01-27        update               1674777600\n",
       "3            5      2023-01-18         promo               1674000000\n",
       "4           16      2023-01-22  reactivation               1674345600"
      ]
     },
     "execution_count": 249,
     "metadata": {},
     "output_type": "execute_result"
    }
   ],
   "source": [
    "df_emails.head()"
   ]
  },
  {
   "cell_type": "code",
   "execution_count": 250,
   "id": "a2397333",
   "metadata": {},
   "outputs": [],
   "source": [
    "mean = df_emails['numeric_timestamp_email'].mean()  # Mean of the distribution\n",
    "std_dev = df_emails['numeric_timestamp_email'].std()  # Standard deviation of the distribution\n",
    "size = len(df_emails)  # Number of samples to generate (same as the number of rows in the DataFrame)"
   ]
  },
  {
   "cell_type": "code",
   "execution_count": 251,
   "id": "cdc5301c",
   "metadata": {},
   "outputs": [],
   "source": [
    "# Generate samples from the normal distribution\n",
    "data = np.random.normal(mean, std_dev, size)"
   ]
  },
  {
   "cell_type": "code",
   "execution_count": 252,
   "id": "99595c4e",
   "metadata": {},
   "outputs": [
    {
     "data": {
      "image/png": "[encoded data removed]",
      "text/plain": [
       "<Figure size 640x480 with 1 Axes>"
      ]
     },
     "metadata": {},
     "output_type": "display_data"
    }
   ],
   "source": [
    "# Plot the histogram of the generated samples\n",
    "plt.hist(data, bins=30, density=True, histtype = 'bar', alpha=0.6, color='b')\n",
    "plt.show()"
   ]
  },
  {
   "cell_type": "code",
   "execution_count": 253,
   "id": "6c9ebdba",
   "metadata": {
    "scrolled": true
   },
   "outputs": [
    {
     "data": {
      "text/html": [
       "<div>\n",
       "<style scoped>\n",
       "    .dataframe tbody tr th:only-of-type {\n",
       "        vertical-align: middle;\n",
       "    }\n",
       "\n",
       "    .dataframe tbody tr th {\n",
       "        vertical-align: top;\n",
       "    }\n",
       "\n",
       "    .dataframe thead th {\n",
       "        text-align: right;\n",
       "    }\n",
       "</style>\n",
       "<table border=\"1\" class=\"dataframe\">\n",
       "  <thead>\n",
       "    <tr style=\"text-align: right;\">\n",
       "      <th></th>\n",
       "      <th>customer_id</th>\n",
       "      <th>numeric_timestamp_email</th>\n",
       "    </tr>\n",
       "  </thead>\n",
       "  <tbody>\n",
       "    <tr>\n",
       "      <th>count</th>\n",
       "      <td>4193.000000</td>\n",
       "      <td>4.193000e+03</td>\n",
       "    </tr>\n",
       "    <tr>\n",
       "      <th>mean</th>\n",
       "      <td>2485.513713</td>\n",
       "      <td>1.675142e+09</td>\n",
       "    </tr>\n",
       "    <tr>\n",
       "      <th>std</th>\n",
       "      <td>1424.545334</td>\n",
       "      <td>1.066221e+06</td>\n",
       "    </tr>\n",
       "    <tr>\n",
       "      <th>min</th>\n",
       "      <td>5.000000</td>\n",
       "      <td>1.672618e+09</td>\n",
       "    </tr>\n",
       "    <tr>\n",
       "      <th>25%</th>\n",
       "      <td>1237.000000</td>\n",
       "      <td>1.674432e+09</td>\n",
       "    </tr>\n",
       "    <tr>\n",
       "      <th>50%</th>\n",
       "      <td>2469.000000</td>\n",
       "      <td>1.675123e+09</td>\n",
       "    </tr>\n",
       "    <tr>\n",
       "      <th>75%</th>\n",
       "      <td>3679.000000</td>\n",
       "      <td>1.675901e+09</td>\n",
       "    </tr>\n",
       "    <tr>\n",
       "      <th>max</th>\n",
       "      <td>4996.000000</td>\n",
       "      <td>1.677715e+09</td>\n",
       "    </tr>\n",
       "  </tbody>\n",
       "</table>\n",
       "</div>"
      ],
      "text/plain": [
       "       customer_id  numeric_timestamp_email\n",
       "count  4193.000000             4.193000e+03\n",
       "mean   2485.513713             1.675142e+09\n",
       "std    1424.545334             1.066221e+06\n",
       "min       5.000000             1.672618e+09\n",
       "25%    1237.000000             1.674432e+09\n",
       "50%    2469.000000             1.675123e+09\n",
       "75%    3679.000000             1.675901e+09\n",
       "max    4996.000000             1.677715e+09"
      ]
     },
     "execution_count": 253,
     "metadata": {},
     "output_type": "execute_result"
    }
   ],
   "source": [
    "df_emails.describe()"
   ]
  },
  {
   "cell_type": "markdown",
   "id": "02683738",
   "metadata": {},
   "source": [
    "# The email timestamps are also normally distributed with mean 1.675142e+09 and STD 1.066221e+06"
   ]
  },
  {
   "cell_type": "markdown",
   "id": "1160e36c",
   "metadata": {},
   "source": [
    "### Hence, they are comparable and Hypothesis test can be performed, we can use t-test since the data is normally distributed."
   ]
  },
  {
   "cell_type": "code",
   "execution_count": 254,
   "id": "737cd924",
   "metadata": {},
   "outputs": [],
   "source": [
    "# Generate some sample data (replace this with your actual data)\n",
    "control_g = control_group['numeric_timestamp']\n",
    "treatment_g = df_calls['numeric_timestamp_calls']"
   ]
  },
  {
   "cell_type": "code",
   "execution_count": 255,
   "id": "4efff762",
   "metadata": {},
   "outputs": [
    {
     "name": "stdout",
     "output_type": "stream",
     "text": [
      "We fail to reject the null Hypothesis for calls treatment group\n"
     ]
    }
   ],
   "source": [
    "# Perform t-test\n",
    "t_statistic, p_value = stats.ttest_ind(control_g, treatment_g)\n",
    "\n",
    "# Set significance level\n",
    "alpha = 0.05\n",
    "\n",
    "# Check if the p-value is less than the significance level\n",
    "if p_value < alpha:\n",
    "    print(\"We fail to reject the null Hypothesis for calls treatment group\")\n",
    "else:\n",
    "    print(\"We reject the null Hypothesis for calls treatment group\")"
   ]
  },
  {
   "cell_type": "code",
   "execution_count": 256,
   "id": "fbc5a29c",
   "metadata": {},
   "outputs": [
    {
     "name": "stdout",
     "output_type": "stream",
     "text": [
      "6e-323\n"
     ]
    }
   ],
   "source": [
    "print(p_value)"
   ]
  },
  {
   "cell_type": "markdown",
   "id": "2064405f",
   "metadata": {},
   "source": [
    "# Now lets do the same t-test for emails treatment group"
   ]
  },
  {
   "cell_type": "code",
   "execution_count": 257,
   "id": "26494e45",
   "metadata": {},
   "outputs": [],
   "source": [
    "# Generate some sample data (replace this with your actual data)\n",
    "control_g = control_group['numeric_timestamp']\n",
    "treatment_g_email = df_emails['numeric_timestamp_email']"
   ]
  },
  {
   "cell_type": "code",
   "execution_count": 258,
   "id": "081c30b4",
   "metadata": {},
   "outputs": [
    {
     "name": "stdout",
     "output_type": "stream",
     "text": [
      "We fail to reject the null Hypothesis for emails treatment group\n"
     ]
    }
   ],
   "source": [
    "# Perform t-test\n",
    "t_statistic, p_value = stats.ttest_ind(control_g, treatment_g_email)\n",
    "\n",
    "# Set significance level\n",
    "alpha = 0.05\n",
    "\n",
    "# Check if the p-value is less than the significance level\n",
    "if p_value < alpha:\n",
    "    print(\"We fail to reject the null Hypothesis for emails treatment group\")\n",
    "else:\n",
    "    print(\"We reject the null Hypothesis for emails treatment group\")"
   ]
  },
  {
   "cell_type": "code",
   "execution_count": 259,
   "id": "3f5964a6",
   "metadata": {},
   "outputs": [
    {
     "name": "stdout",
     "output_type": "stream",
     "text": [
      "0.0\n"
     ]
    }
   ],
   "source": [
    "print(p_value)"
   ]
  },
  {
   "cell_type": "markdown",
   "id": "f646ef4a",
   "metadata": {},
   "source": [
    "# This means we can compare the control and treatment group and the inferences which we made in Question 1 holds true with an error of 5% (Since alpha is 0.05)"
   ]
  },
  {
   "cell_type": "markdown",
   "id": "30ddf12a",
   "metadata": {},
   "source": [
    "# For last Question 5"
   ]
  },
  {
   "cell_type": "code",
   "execution_count": 260,
   "id": "399d82e6",
   "metadata": {},
   "outputs": [],
   "source": [
    "filtered_df = df_emails[df_emails['email_type'] != 'reactivation']\n",
    "\n",
    "# Get unique customer_id values from the filtered DataFrame\n",
    "customer_ids_not_reactivated = filtered_df['customer_id'].unique()"
   ]
  },
  {
   "cell_type": "code",
   "execution_count": 261,
   "id": "34acbc13",
   "metadata": {},
   "outputs": [
    {
     "data": {
      "text/plain": [
       "1115"
      ]
     },
     "execution_count": 261,
     "metadata": {},
     "output_type": "execute_result"
    }
   ],
   "source": [
    "len(customer_ids_not_reactivated)"
   ]
  }
 ],
 "metadata": {
  "kernelspec": {
   "display_name": "Python 3 (ipykernel)",
   "language": "python",
   "name": "python3"
  },
  "language_info": {
   "codemirror_mode": {
    "name": "ipython",
    "version": 3
   },
   "file_extension": ".py",
   "mimetype": "text/x-python",
   "name": "python",
   "nbconvert_exporter": "python",
   "pygments_lexer": "ipython3",
   "version": "3.11.5"
  }
 },
 "nbformat": 4,
 "nbformat_minor": 5
}
